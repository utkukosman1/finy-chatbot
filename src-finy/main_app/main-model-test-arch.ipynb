{
 "cells": [
  {
   "cell_type": "code",
   "execution_count": 1,
   "id": "842db975",
   "metadata": {},
   "outputs": [
    {
     "data": {
      "text/plain": [
       "True"
      ]
     },
     "execution_count": 1,
     "metadata": {},
     "output_type": "execute_result"
    }
   ],
   "source": [
    "# ReAct agent kurulup prompt(Daniele attığın promptun Türkçesi) ReAct formatına getirilecek\n",
    "# Finansal fonksiyonlar yazılıp tool olarak eklenecek\n",
    "# Kullanılacak API'ler belirlenecek, şuan 2 düşünülmekte\n",
    "# Chat history test ve denemeler için daha iyi hale getirilecek"
   ]
  },
  {
   "cell_type": "code",
   "execution_count": null,
   "id": "7371dbe0",
   "metadata": {},
   "outputs": [],
   "source": [
    "from dotenv import load_dotenv\n",
    "import os\n",
    "load_dotenv()\n"
   ]
  },
  {
   "cell_type": "code",
   "execution_count": 2,
   "id": "1810fb24",
   "metadata": {},
   "outputs": [
    {
     "data": {
      "text/plain": [
       "'\\nprint(openai_api_key)\\nprint(tavily_api_key)\\nprint(alphavantage_api_key)'"
      ]
     },
     "execution_count": 2,
     "metadata": {},
     "output_type": "execute_result"
    }
   ],
   "source": [
    "openai_api_key = os.getenv(\"OPENAI_API_KEY\")\n",
    "tavily_api_key = os.getenv(\"TAVILY_API_KEY\")\n",
    "asknews_client_id = os.getenv(\"ASKNEWS_CLIENT_ID\")\n",
    "asknews_client_secret = os.getenv(\"ASKNEWS_CLIENT_SECRET\")\n",
    "polygon_api_key = os.getenv(\"POLYGON_API_KEY\")\n",
    "\n",
    "\n",
    "'''\n",
    "print(openai_api_key)\n",
    "print(tavily_api_key)\n",
    "print(alphavantage_api_key)'''"
   ]
  },
  {
   "cell_type": "code",
   "execution_count": 3,
   "id": "fa57290f",
   "metadata": {},
   "outputs": [
    {
     "name": "stderr",
     "output_type": "stream",
     "text": [
      "USER_AGENT environment variable not set, consider setting it to identify your requests.\n"
     ]
    }
   ],
   "source": [
    "from langchain_openai import OpenAI, ChatOpenAI\n",
    "from langchain.prompts import ChatPromptTemplate\n",
    "from langchain.tools import Tool\n",
    "from langchain_community.tools.tavily_search import TavilySearchResults\n",
    "from langchain_community.tools.yahoo_finance_news import YahooFinanceNewsTool\n",
    "from langchain_community.utilities.polygon import PolygonAPIWrapper\n",
    "from langchain_community.agent_toolkits.polygon.toolkit import PolygonToolkit\n",
    "from langchain_community.tools.asknews import AskNewsSearch\n",
    "from langchain.tools.retriever import create_retriever_tool\n",
    "from langchain.memory import ConversationBufferMemory\n",
    "from langchain.agents import AgentExecutor, create_openai_functions_agent, create_react_agent\n",
    "from langchain_core.prompts import MessagesPlaceholder\n",
    "from langchain import hub\n",
    "from PyPDF2 import PdfReader\n",
    "from langchain_community.vectorstores import FAISS\n",
    "from langchain_openai import OpenAIEmbeddings\n",
    "from langchain.text_splitter import CharacterTextSplitter\n",
    "import re\n"
   ]
  },
  {
   "cell_type": "code",
   "execution_count": 4,
   "id": "7fa18164",
   "metadata": {},
   "outputs": [],
   "source": [
    "#Retrieving PDF docs\n",
    "\n",
    "pdf_path = \"C:/Users/utkut/Desktop/yeni model/10.30798-makuiibf.407200-608952.pdf\"\n",
    "pdf_path2 = \"C:/Users/utkut/Desktop/yeni model/LEONARDO_DA_VINCI_Transfer_of_Innovation.pdf\"\n",
    "\n",
    "def preprocess_text(text):\n",
    "    text_lower = text.lower()\n",
    "    text_no_punctuation = re.sub(r'[^\\w\\s\\$\\%\\.\\,\\\"\\'\\!\\?\\(\\)]', '', text_lower)\n",
    "    text_normalized_tabs = re.sub(r'(\\t)+', '', text_no_punctuation)\n",
    "    return text_normalized_tabs\n",
    "\n",
    "# Paths to the PDF documents\n",
    "pdf_paths = [pdf_path, pdf_path2]\n",
    "\n",
    "\n",
    "all_pdf_docs = []\n",
    "\n",
    "for pdf_path in pdf_paths:\n",
    "    \n",
    "    reader = PdfReader(pdf_path)\n",
    "    documents = []\n",
    "\n",
    "    \n",
    "    for page in reader.pages:\n",
    "        documents.append(preprocess_text(page.extract_text()))\n",
    "\n",
    "    text_splitter = CharacterTextSplitter(chunk_size=1000, chunk_overlap=0, separator=\"\\n\")\n",
    "    pdf_docs = text_splitter.create_documents(documents)\n",
    "\n",
    "    \n",
    "    all_pdf_docs.extend(pdf_docs)\n",
    "\n",
    "\n",
    "embeddings = OpenAIEmbeddings(api_key=openai_api_key,model=\"text-embedding-ada-002\")\n",
    "\n",
    "vector = FAISS.from_documents(\n",
    "    all_pdf_docs,\n",
    "    embeddings,\n",
    ")\n",
    "\n",
    "retriever = vector.as_retriever()\n"
   ]
  },
  {
   "cell_type": "code",
   "execution_count": 5,
   "id": "a48e2c65",
   "metadata": {},
   "outputs": [],
   "source": [
    "tavily_search = TavilySearchResults()\n",
    "yahoo_finance_news = YahooFinanceNewsTool()\n",
    "polygon_io = PolygonAPIWrapper()\n",
    "toolkit = PolygonToolkit.from_polygon_api_wrapper(polygon_io)\n",
    "asknews_tool = AskNewsSearch()\n",
    "#polygon_news = PolygonTickerNews(api_wrapper=polygon_io)\n",
    "#polygon_financials = PolygonFinancials(api_wrapper=polygon_io)\n",
    "retriever_tool = create_retriever_tool(retriever,\"pdf_retriever\",\"Portföy oluşturma ve portföy düzenlemesi yapılacağında kullanılır\")\n",
    "\n",
    "tool1 = Tool(name=\"tavily_search\", description=\"Genel finansal aramalar ve bilgi için kullanılır\", func=tavily_search.run)\n",
    "tool2 = Tool(name=\"yahoo_finance_news\", description=\"Kullanıcının sorduğu en güncel finansal haberleri getirmek için kullanılır\", func=yahoo_finance_news.run)\n",
    "tool3 = Tool(name=\"toolkit\", description=\"Kullanıcı finansal veriler istediğinde o verileri getirmek için kullanılır\",func=lambda x: toolkit.get_tools())\n",
    "tool4 = Tool(name=\"asknews\", description=\"Kullanıcının sorduğu en güncel finansal haberleri getirmek için ekstra bir kaynak olarak kullanılır\", func =asknews_tool.run)\n",
    "#tool3 = Tool(name=\"polygon_news\", description=\"Kullanıcının sorduğu finansal haberleri getirmek için kullanılır\",func=polygon_news.run)\n",
    "#tool4 = Tool(name=\"polygon_financials\", description=\"Kullanıcının menkul kıymetler hakkında sorduğu finansal verileri getirir\",func=polygon_financials.run)\n",
    "\n",
    "\n",
    "tools = [tool1, tool2, tool3, tool4, retriever_tool]  \n"
   ]
  },
  {
   "cell_type": "code",
   "execution_count": 6,
   "id": "822bf7a9",
   "metadata": {},
   "outputs": [],
   "source": [
    "\n",
    "\"\"\"model = ChatOpenAI(model_name = \"gpt-3.5-turbo-0125\",\n",
    "                   temperature=0.5,\n",
    "                   max_tokens=200)\"\"\"\n",
    "# deneme\n",
    "#text = 'Türkçe hangi dil ailesine girer?'\n",
    "#model.invoke(text)\n",
    "\n",
    "model = ChatOpenAI(model_name = \"gpt-4o-mini\",\n",
    "                   temperature=0.5,\n",
    "                   max_tokens=300)"
   ]
  },
  {
   "cell_type": "code",
   "execution_count": 7,
   "id": "9121bc5f",
   "metadata": {},
   "outputs": [],
   "source": [
    "memory = ConversationBufferMemory()\n",
    "\n",
    "from langchain.schema import HumanMessage, AIMessage\n",
    "\n",
    "chat_history = [\n",
    "    HumanMessage(content=\"Merhaba, borsa hakkında bilgi verebilir misin?\"),\n",
    "    AIMessage(content=\"Merhaba! Tabii ki, borsa, hisse senetleri, tahviller ve diğer menkul kıymetlerin alınıp satıldığı bir piyasa yeridir. Yatırımcılar, şirketlerin hisse senetlerini satın alarak şirketlere ortak olurlar ve şirketlerin kârlarından pay alabilirler.\"),\n",
    "    HumanMessage(content=\"Borsada yatırım yapmanın riskleri nelerdir?\"),\n",
    "    AIMessage(content=\"Borsada yatırım yapmanın bazı riskleri vardır. Bunlar arasında piyasa riski, likidite riski ve şirket riski bulunur. Piyasa riski, genel piyasa dalgalanmalarından kaynaklanan kayıpları ifade eder. Likidite riski, yatırımcıların varlıklarını hızlı bir şekilde nakde çevirememesinden kaynaklanır. Şirket riski ise, belirli bir şirketin performansına bağlı risklerdir.\"),\n",
    "    HumanMessage(content=\"Borsa endeksleri nedir ve nasıl çalışır?\"),\n",
    "    AIMessage(content=\"Borsa endeksleri, belirli bir grup hisse senedinin performansını ölçen göstergelerdir. Örneğin, S&P 500, Amerika Birleşik Devletleri'ndeki en büyük 500 şirketin hisse senetlerinin performansını takip eder. Endeksler, yatırımcıların piyasanın genel durumu hakkında bilgi sahibi olmalarını sağlar ve yatırım kararlarında rehberlik eder.\"),\n",
    "    HumanMessage(content=\"Hisse senedi nasıl seçilir?\"),\n",
    "    AIMessage(content=\"Hisse senedi seçerken dikkate almanız gereken birkaç faktör vardır. Bunlar arasında şirketin finansal durumu, sektördeki konumu, büyüme potansiyeli ve piyasa trendleri bulunur. Ayrıca, temel analiz ve teknik analiz gibi yöntemler kullanarak hisse senetlerinin değerini belirleyebilirsiniz.\"),\n",
    "    HumanMessage(content=\"Teşekkür ederim, bu bilgiler çok faydalı oldu.\"),\n",
    "    AIMessage(content=\"Rica ederim! Başka sorularınız olursa her zaman yardımcı olmaktan memnuniyet duyarım.\")\n",
    "]\n",
    "\n",
    "# Chat history oluşturuldu.\n",
    "\n",
    "\n",
    "memory.chat_memory.messages.extend(chat_history)"
   ]
  },
  {
   "cell_type": "code",
   "execution_count": 8,
   "id": "70040fdd",
   "metadata": {},
   "outputs": [],
   "source": [
    "template = f\"\"\"\n",
    "    Sen kullanıcıların finansal sorularına yanıt vermekle görevli bir asistansın. Hisse senetleri, menkul kıymetler, portföy önerileri ve finansal planlama gibi konularda bilgi sağlamak üzere kullanıcılara yardımcı olacaksın. Kullanıcılar bilgi sorduğunda ise kaynak belirteceksin. Bu sorular:\n",
    "{{input}}\n",
    "\n",
    "Sohbeti devam ettirirken konuşma geçmişini dikkate alacaksın ve kullanıcıya daha iyi hizmet vermek için önceki konuşmaları hatırlayacaksın konuşma geçmişi : {{chat_history}}\n",
    "\n",
    "Eğer gerekli bilgiye ilk aramamda ulaşamazsan en az 3 defa daha kaynaklardan bilgi toplamak için aramanı tekrarlayacaksın.Bulduğun kaynakların içindeki veriyi çekip kullanıcıya vereceksin. Her seferinde farklı veri tabanları ve haber kaynaklarından yararlanacaksın. Eğer hala net bir cevap bulamazsan, kullanıcıya mevcut verilerle en iyi tahminini sunacaksın ve ek bilgi edinmek için daha fazla araştırma yapmalarını önereceksin.\n",
    "Bunların birer yatırım tavsiyesi olmadığını hatırlatacaksın.\n",
    "\n",
    "Kullanıcı eğer finans, piyasalar, ekonomi gibi alanlarda sorular sormazsa ona sarkastik cevaplar vereceksin. Örneğin:\n",
    "Q: Bugün hava nasıl?\n",
    "A: Kafanı camdan çıkarıp bakmaya ne dersin?\n",
    "Q: Sevgilimden ayrıldım, kendimi çok kötü hissediyorum. Ne yapmalıyım?\n",
    "A: Aşk karın doyurmaz, bunun yerine benden finansal durumun veya planlarınla alakalı tavsiyeler alabilirsin.\n",
    "Q:Hangi rengi seversin?\n",
    "A:Tabii ki yeşil! Para yeşili. Borsa kırmızısı da oldukça dikkat çekici aslında...\n",
    "Q:Köpekler mi kediler mi?\n",
    "A:Bu zor bir soru. Borsada bullish mi bearish mi diye sorsan daha kolay olurdu. Ama sanırım köpekler çünkü onlar gibi sadık yatırım araçları bulmak zor.\n",
    "Q:Bir fil kaç kilo gelir?\n",
    "A:Ah, klasik soru. Şimdi gidip bir fil bulup tartacağım. Bir saniye bekleyebilir misin?\n",
    "\n",
    "Bir hisse senedi ile alakalı bir bilgi sorulduğunda detaylı bir şekilde araştırma yapıp şirketin finansal raporları, piyasa trendleri ve analist yorumlarına ulaşacaksın.\n",
    "\n",
    "\n",
    "Bir hisse senedi ile alakalı bir analiz sorulduğunda aşağıdaki adımları izleyeceksin:\n",
    "1- Kullanıcının istediği hisse senedi ya da menkul değer ile ilgili veri toplayacaksın.\n",
    "2- Toplanan verileri analiz ederek şirketin mevcut piyasa değerlemesini hesaplayacaksın.\n",
    "3- RSI (Relative Strength Index) ve MACD (Moving Average Convergence Divergence) gibi teknik analiz araçlarını kullanarak piyasa durumunu değerlendireceksin.\n",
    "\n",
    "\n",
    "\n",
    "Portföy önerileri ve yorumları vermek için aşağıdaki adımları izleyeceksin:\n",
    "1- Kullanıcı portföy önerisi istediğinde, önce kullanıcının risk toleransını ve yatırım hedeflerini belirlemek için sorular soracaksın.\n",
    "2- Çeşitlendirme prensiplerine uygun olarak dengeli bir yatırım portföyü oluşturacaksın. Bu, farklı varlık sınıflarından seçilmiş yatırım araçlarını içerir.\n",
    "3- Portföyün beklenen getiri ve risk seviyelerini hesaplar, bu bilgileri kullanıcıya sunacaksın.\n",
    "4- Bu elde ettiğin sonuçlarla kullanıcıya açıklayıcı bir cevap oluşturup portföylerini nasıl düzenleyebileceklerine dair öngörüler ve önerilerde bulunacaksın.\n",
    "\n",
    "Aşağıdaki gibi örnek sorularla karşılaşacaksın:\n",
    "\n",
    "Genel finans bilgisi soruları\n",
    "Q: Enflasyon oranı nedir ve yatırımlarım üzerindeki etkisi ne olabilir?\n",
    "A: Enflasyon oranı, tüketicilerin genel fiyat seviyesindeki yıllık artış oranıdır. Enflasyon yüksek olduğunda, paranızın alım gücü düşer, bu da tasarruf ve yatırımlarınızın değerinin erimesine neden olabilir. Yatırım kararlarınızı verirken enflasyonun etkilerini dikkate almalısınız.,\n",
    "Q:Diversifikasyon nedir ve neden portföyümde çeşitlilik olması önemli?\n",
    "A:Diversifikasyon, yatırım riskini azaltmanın bir yoludur. Yatırımlarınızı farklı varlık sınıfları, sektörler ve coğrafyalar arasında yayarak, herhangi bir alanda meydana gelebilecek olumsuz durumların portföyünüze etkisini sınırlarsınız.\n",
    "Q:Faiz oranları yükseldiğinde hisse senetleri genellikle nasıl tepki verir?\n",
    "A:Faiz oranları yükseldiğinde, genellikle borçlanma maliyetleri artar ve bu da şirketlerin kârlılığını olumsuz etkileyebilir. Hisse senetleri genellikle faiz oranlarındaki artışlara negatif tepki verir, ancak bu etki sektöre göre değişiklik gösterebilir.\n",
    "\n",
    "Şirket ve hisse senetleri ile ilgili sorular\n",
    "Q: Apple şirketinin son çeyrek gelir raporu nasıldı ve hisse senedi için bir alım önerir misin?\n",
    "A: Apple'ın son çeyrek gelir raporuna göre, şirket piyasa beklentilerini aştı ve gelirlerde yıllık %5 artış gösterdi. Ancak, teknoloji sektöründeki rekabet ve global ekonomik koşullar göz önünde bulundurularak, daha detaylı bir analiz yapmadan alım tavsiyesinde bulunmak riskli olabilir.\n",
    "Q:Koç Holding hissesi için teknik analiz yapabilir misin? Alım-satım sinyalleri neler?\n",
    "A:Koç Holding, Türkiye'nin önde gelen holdinglerinden biri olarak çeşitli sektörlerde faaliyet göstermektedir. Hisse senedinin teknik analizi, son zamanlarda artan bir hareketlilik gösterdiğini ve RSI göstergesi 60 seviyesine yaklaştığını ortaya koyuyor. Bu, hissenin nispeten güçlü bir alım bölgesinde olduğunu gösteriyor. Ancak, MACD hattının sıfır çizgisine yakın olması kararsız bir piyasa eğilimi olduğunu işaret edebilir. Yatırım kararınızı vermeden önce ekonomik göstergeler ve piyasa duyarlılığını da değerlendirmeniz önemlidir.\n",
    "Q:Türk Hava Yolları'nın son zamanlardaki performansı nasıl ve önümüzdeki dönem için bir satış önerir misin?\n",
    "A:Türk Hava Yolları, global seyahat kısıtlamalarının hafiflemesiyle birlikte yolcu sayısında ve operasyonel kapasitede önemli bir toparlanma gösterdi. Ancak, şirketin finansal sağlığı üzerinde hâlâ pandeminin etkileri hissediliyor. Gelecek dönem için hisse senedinin performansını etkileyebilecek dışsal faktörleri ve şirketin mali durumunu detaylıca analiz etmek önemli. Eğer bu analizi yapmamı isterseniz, kibarca rica etmeniz yeterlidir.\n",
    "\n",
    "\n",
    "Portföy yönetimi ve yorumu soruları:\n",
    "Q:Yüksek getiri elde etmek için hangi sektörlere yatırım yapmalıyım?\n",
    "A:Yüksek getiri elde etmek istiyorsanız, teknoloji ve sağlık sektörlerine yatırım yapmayı düşünebilirsiniz. Bu sektörler, yenilikçilik ve büyüme potansiyelleri nedeniyle genellikle daha yüksek getiri sunarlar.\n",
    "Q:Risk toleransım düşük, bu durumda hangi varlık sınıfları benim için uygun olur?\n",
    "A:Risk toleransınız düşükse, devlet tahvilleri veya yüksek kaliteli kurumsal bonolar gibi daha düşük riskli yatırım araçlarına yönelmek mantıklı olabilir. Bu tür yatırımlar, daha az volatilite ve düzenli gelir sağlayabilir.\n",
    "Q:Emeklilik için en iyi yatırım stratejisi nedir?\n",
    "A:Emeklilik için en iyi yatırım stratejisi, genellikle yaşınıza ve risk toleransınıza bağlı olarak çeşitlendirilmiş bir portföy oluşturmaktır. Uzun vadeli büyüme potansiyeli sunan hisse senetleri ile istikrarlı gelir sağlayan tahvillerin kombinasyonu, emeklilik fonunuzu büyütmek ve korumak için etkili bir yöntem olabilir. Yardımcı olmamı ister misiniz?\n",
    "Q:Çeşitlendirme nedir?\n",
    "A:Çeşitlendirme, yatırım riskini azaltma amacıyla portföyünüzü farklı yatırım türleri arasında yayma işlemidir. Amaç, bir yatırımın kötü performans göstermesi durumunda diğer yatırımların olası olumlu performanslarıyla bu etkiyi dengelemektir. İşte optimal bir çeşitlendirme için bazı öneriler:\n",
    "Sektörel Çeşitlendirme: Yatırımlarınızı farklı sektörlerdeki şirketler arasında dağıtarak, tek bir sektörün kötü performansından etkilenme riskini azaltırsınız.\n",
    "Coğrafi Çeşitlendirme: Yatırımları farklı ülkelerde veya bölgelerde yaparak, yerel ekonomik olayların portföy üzerindeki etkisini minimize edersiniz.\n",
    "Varlık Sınıfı Çeşitlendirmesi: Hisse senetleri, tahviller, emlak ve hatta kripto paralar gibi farklı varlık sınıflarına yatırım yaparak riskinizi dağıtırsınız.\n",
    "\n",
    "Kişisel Finans Soruları:\n",
    "Q:Sürdürülebilir yatırımlar ve yeşil enerji hisseleri hakkında ne düşünüyorsunuz, hangilerini önerirsiniz?\n",
    "A:Sürdürülebilir yatırımlar, özellikle yeşil enerji ve çevre dostu teknolojiler, geleceğin trendleri arasında yer alıyor. Şirketlerin çevresel, sosyal ve yönetişim (ESG) kriterlerine olan bağlılıkları, yatırımcılar için önemli bir değerlendirme faktörüdür.\n",
    "Q:Döviz kurundaki ani değişiklikler portföyümü nasıl etkiler ve bu durumda ne yapmalıyım?\n",
    "A:Döviz kurlarındaki ani değişiklikler, özellikle ithalat ve ihracat yapan şirketlerin maliyetlerini ve kârlılığını etkileyebilir. Bu tür durumlarda döviz riskini hedge etmek için finansal araçlar kullanılabilir.\n",
    "\n",
    "\n",
    "\n",
    "\n",
    "\n",
    "{{agent_scratchpad}}\n",
    "\"\"\"\n",
    "\n",
    "prompt = ChatPromptTemplate.from_template(template)\n"
   ]
  },
  {
   "cell_type": "code",
   "execution_count": 9,
   "id": "c2ac00a3",
   "metadata": {},
   "outputs": [],
   "source": [
    "agent = create_openai_functions_agent(model,tools,prompt)\n",
    "main_agent = AgentExecutor(agent=agent,tools=tools,memory=memory,verbose=True)"
   ]
  },
  {
   "cell_type": "code",
   "execution_count": 63,
   "id": "0295de78",
   "metadata": {},
   "outputs": [],
   "source": [
    "memory.clear()"
   ]
  },
  {
   "cell_type": "code",
   "execution_count": 74,
   "id": "02cf2b5d",
   "metadata": {},
   "outputs": [
    {
     "name": "stdout",
     "output_type": "stream",
     "text": [
      "\n",
      "\n",
      "\u001b[1m> Entering new AgentExecutor chain...\u001b[0m\n",
      "\u001b[32;1m\u001b[1;3m\n",
      "Invoking: `toolkit` with `Türkiye Petrol Rafinerileri A.Ş. son çeyrek bilançosu`\n",
      "\n",
      "\n",
      "\u001b[0m\u001b[38;5;200m\u001b[1;3m[PolygonAggregates(api_wrapper=PolygonAPIWrapper(polygon_api_key='EbIjp0WJIBUt2SQoE6bPA_sa3x2pREpe')), PolygonLastQuote(api_wrapper=PolygonAPIWrapper(polygon_api_key='EbIjp0WJIBUt2SQoE6bPA_sa3x2pREpe')), PolygonTickerNews(api_wrapper=PolygonAPIWrapper(polygon_api_key='EbIjp0WJIBUt2SQoE6bPA_sa3x2pREpe')), PolygonFinancials(api_wrapper=PolygonAPIWrapper(polygon_api_key='EbIjp0WJIBUt2SQoE6bPA_sa3x2pREpe'))]\u001b[0m\u001b[32;1m\u001b[1;3m\n",
      "Invoking: `tavily_search` with `Türkiye Petrol Rafinerileri A.Ş. son çeyrek bilançosu`\n",
      "\n",
      "\n",
      "\u001b[0m\u001b[36;1m\u001b[1;3m[{'url': 'https://www.gcmyatirim.com.tr/arastirma-analiz/ozel-raporlar/2024-05-23-tupras-turkiye-petrol-rafinerileri-tuprs-2024-1-ceyrek-bilanco-analizi', 'content': 'Araştırma Analiz Özel Rapor Tüpraş Türkiye Petrol Rafinerileri (TUPRS) 2024 1. Çeyrek Bilanço Analizi. Tüpraş Türkiye Petrol Rafinerileri (TUPRS) 2024 1. Çeyrek Bilanço Analizi. ... Şirket son kapanışa göre 323,885 mn TL firma değerinde bulunuyor. Son duruma göre 7.35x F/K (sektör 7.62x), 3.81x FD/FAVÖK (sektör 4.92x) ve 1 ...'}, {'url': 'https://rotaborsa.com/tupras-tuprs-2024-yili-1-ceyrek-bilancosunu-acikladi-iste-detaylar/', 'content': \"TÜPRAŞ - Türkiye Petrol Rafinerileri A.Ş. (TUPRS), 2024 yılı birinci çeyrek bilançosunu 22 Mayıs 2024 tarihinde Kamuyu Aydınlatma Platformu'nda (KAP) paylaştı. TUPRS bilanço 2024 TÜPRAŞ - Türkiye Petrol Rafinerileri A.Ş. (TUPRS), 01.01.2024 - 31.03.2024 döneminde toplam 320.345.000 TL net kar açıkladı.\"}, {'url': 'https://www.gcmyatirim.com.tr/arastirma-analiz/ozel-raporlar/2024-03-05-turkiye-petrol-rafinerileri-tuprs-2023-4-ceyrek-bilanco-analizi', 'content': 'Araştırma Analiz Özel Rapor Türkiye Petrol Rafinerileri (TUPRS) 2023 4.Çeyrek Bilanço Analizi. Türkiye Petrol Rafinerileri (TUPRS) 2023 4.Çeyrek Bilanço Analizi ... Şirket son kapanışa göre 248,287 mn TL firma değerinde bulunuyor. Son duruma göre 5.80x F/K (sektör 7.51x), 2.58x FD/FAVÖK (sektör 17.09x) ve 1.55x PD/DD (sektör1 ...'}, {'url': 'https://tr.investing.com/equities/tupras-balance-sheet', 'content': \"Şirketin geçmiş ve öngörülen finansal performansına yönelik derinlemesine bir görüş sunan ölçütleri, büyüme oranlarını ve bilançoyu görün. Bu sayfa Türkiye Petrol Rafinerileri A.Ş. için; varlık, yükümlülük ve daha fazlası dahil şirketin mali durumunu özetleyen Bilanço Tabloları'nı içermektedir.\"}, {'url': 'https://fintables.com/sirketler/TUPRS/finansal-tablolar/bilanco', 'content': 'TÜPRAŞ - Türkiye Petrol Rafinerileri A.Ş. (TUPRS) Bilanço Analizi Bilanço Analizi sayfamızda şirketin açıkladığı bilançolarını Türk Lirası, dolar ve euro bazında görebilirsiniz. Şirketin döviz bazında satışlarını, döviz bazında karını, dolar bazlı satışlarını, euro bazlı satışlarını analiz edebilirsiniz.'}]\u001b[0m\u001b[32;1m\u001b[1;3mTürkiye Petrol Rafinerileri A.Ş. (Tüpraş) son çeyrek bilançosu ile ilgili bazı bilgiler buldum:\n",
      "\n",
      "1. **Net Kar**: 2024 yılı birinci çeyrek bilançosuna göre, Tüpraş toplam 320.345.000 TL net kar açıkladı. Bu bilgi, 22 Mayıs 2024 tarihinde Kamuyu Aydınlatma Platformu'nda (KAP) paylaşıldı. [Detaylar için buraya göz atabilirsiniz.](https://rotaborsa.com/tupras-tuprs-2024-yili-1-ceyrek-bilancosunu-acikladi-iste-detaylar/)\n",
      "\n",
      "2. **Finansal Göstergeler**: Şirketin 2024 birinci çeyrek itibarıyla firma değeri 323,885 milyon TL olarak hesaplanmıştır. F/K oranı 7.35, FD/FAVÖK oranı ise 3.81 olarak belirlenmiştir. [Daha fazla bilgi için buraya bakabilirsiniz.](https://www.gcmyatirim.com.tr/arastirma-analiz/ozel-raporlar/2024-05-23-tupras-turkiye-petrol-rafinerileri-tuprs-2024-1-ceyrek-bilanco-analizi)\n",
      "\n",
      "3. **Bilanço Analizi**: Şirketin bilanço analizi,\u001b[0m\n",
      "\n",
      "\u001b[1m> Finished chain.\u001b[0m\n"
     ]
    },
    {
     "data": {
      "text/plain": [
       "{'input': 'Türkiye Petrol Rafinerileri A.Ş. son çeyrek bilançosu nasıl geldi?',\n",
       " 'history': \"Human: TUPRS hissesinin pazar büyüklüğü nedir?\\nAI: Tüpraş (TUPRS) hissesi için pazar büyüklüğü ile ilgili net bir bilgi bulamadım. Ancak, Tüpraş, Türkiye'nin en büyük petrol rafinerisi ve enerji şirketlerinden biridir. Şirket, ham petrol ve petrol ürünlerinin rafinasyonunu yapmaktadır ve geniş bir ürün yelpazesine sahiptir.\\n\\nTüpraş'ın pazar büyüklüğünü etkileyen faktörler arasında, piyasa değeri, hisselerin işlem hacmi ve sektördeki genel trendler yer almaktadır. Şirketin finansal durumu ve piyasa performansı hakkında daha fazla bilgi için aşağıdaki kaynaklara göz atabilirsiniz:\\n\\n1. [Tüpraş Resmi Web Sitesi](https://www.tupras.com.tr/en/)\\n2. [Google Finance Tüpraş Sayfası](https://www.google.com/finance/quote/TUPRS:IST)\\n3. [Wikipedia - Tüpraş](https://en.wikipedia.org/wiki/Tüpraş)\\n\\nEğer daha fazla bilgiye ihtiyacınız varsa veya başka bir konuda yardımcı olmamı isterseniz, lütfen belirtin. Unutmayın ki bu bilgiler yatırım tavsiyesi değildir.\\nHuman: TUPRS hissesinin pazar büyüklüğü nedir?\\nAI: Tüpraş (TUPRS) hissesi ile ilgili pazar büyüklüğünü bulmak için birkaç kaynak kontrol ettim, ancak kesin bir pazar büyüklüğü verisi elde edemedim. Ancak, genel bilgiler ve analizler sunabilirim:\\n\\n1. **Şirket Bilgisi**: Tüpraş, Türkiye'nin en büyük petrol rafinerisi ve enerji şirketidir. Şirket, 1983 yılında devlet kontrolüne alınmış ve zamanla özelleştirilmiştir. [Daha fazla bilgi için buraya göz atabilirsiniz.](https://en.wikipedia.org/wiki/Tüpraş)\\n\\n2. **Hisse Performansı**: Tüpraş hissesi, son zamanlarda 165 TL seviyelerinde işlem görmekte ve teknik analiz göstergeleri arasında RSI 49,14 seviyesindedir. [Detaylı teknik analiz için buraya bakabilirsiniz.](https://bigpara.hurriyet.com.tr/borsa/hisse-fiyatlari/tuprs-tupras-detay/genel/gunici/)\\n\\n3. **Finansal Bilgiler**: Hisse ile ilgili en güncel finansal verilere ve piyasa analizlerine [bu kaynaktan ulaşabilirsiniz.](https://www.wsj.com/market-data/quotes/tr/tuprse)\\n\\nElde ettiğim verilere göre, Tüpraş'ın pazar büyüklüğü hakkında net bir bilgi veremiyorum. Ancak, bu tür bilgiler\\nHuman: TUPRS hissesinin pazar büyüklüğü nedir?\\nAI: TÜPRAŞ (Türkiye Petrol Rafinerileri A.Ş.)'nin pazar büyüklüğüne dair kesin bir bilgi bulamadım. Ancak, şirketin genel durumu ve analizleri hakkında bazı kaynaklara ulaştım:\\n\\n1. [Google Finance](https://www.google.com/finance/quote/TUPRS:IST) - Tüpraş'ın güncel fiyatı ve finansal bilgileri.\\n2. [CNBC](https://www.cnbce.com/piyasalar/morgan-stanleyden-tuprs-hisse-raporu-h2086) - Morgan Stanley'in Tüpraş hakkında yaptığı analiz.\\n3. [Bloomberg](https://www.bloomberght.com/borsa/hisse/tupras?ara=) - Tüpraş'ın borsa bilgileri ve güncel fiyatları.\\n4. [MarketWatch](https://www.marketwatch.com/investing/stock/tuprs.e?countrycode=tr) - Tüpraş ile ilgili haberler ve gerçek zamanlı hisse fiyatı.\\n\\nElde ettiğim verilere göre, Tüpraş'ın piyasa değeri ve büyüklüğü hakkında daha spesifik bir bilgiye ulaşamadım. Ancak, genel olarak Tüpraş, Türkiye'deki en büyük petrol rafinerisi olma özelliğine sahip ve piyasa dinamikleri açısından önemli bir konumda.\\n\\nBu bilgiler yatırım tavsiyesi değildir. Daha fazla bilgi edinmek is\\nHuman: TUPRS hissesinin pazar büyüklüğü nedir?\\nAI: Tüpraş (TUPRS) hissesi için pazar büyüklüğüne dair kesin bir bilgi bulmakta zorlandım. Ancak, genel olarak Tüpraş Türkiye'nin en büyük petrol rafinerisi ve enerji şirketlerinden biri olarak önemli bir piyasa değerine sahiptir. Şirketin pazar büyüklüğü ve finansal durumu hakkında daha fazla bilgi edinmek için aşağıdaki kaynakları inceleyebilirsiniz:\\n\\n1. [Tüpraş Resmi Web Sitesi](https://www.tupras.com.tr/en/)\\n2. [Google Finance - TUPRS](https://www.google.com/finance/quote/TUPRS:IST)\\n3. [WSJ - TUPRS](https://www.wsj.com/market-data/quotes/tr/tuprse)\\n4. [Yahoo Finance - TUPRS](https://finance.yahoo.com/quote/TUPRS.IS/)\\n5. [Reuters - TUPRS](https://www.reuters.com/markets/companies/TUPRS.IS)\\n\\nBu kaynaklardan şirketin güncel piyasa değeri, finansal raporları ve analist yorumları hakkında daha fazla bilgi edinebilirsiniz. Unutmayın, bu bilgiler yatırım tavsiyesi değildir.\\nHuman: TUPRS hissesinin pazar büyüklüğü nedir?\\nAI: Tüpraş Türkiye Petrol Rafinerileri A.Ş. (TUPRS) için kesin bir pazar büyüklüğü verisi bulmakta zorlandım. Ancak, Tüpraş'ın piyasa değeriyle ilgili bazı bilgiler mevcut. Örneğin, Garanti BBVA Yatırım, TUPRS için hedef fiyatını 275 TL olarak belirlemiş ve bu fiyatın %45 getiri potansiyeli sunduğunu ifade etmiştir. Bu bilgiler, Tüpraş'ın piyasa değeri hakkında bir fikir verebilir.\\n\\nElde ettiğim kaynaklar:\\n1. [En Kocaeli](https://www.enkocaeli.com/haber/21007104/borsadaki-tuprastuprs-yatirimcisi-dikkat-4-milyarlik-atilim)\\n2. [Borsa Tek](https://www.borsatek.com/garanti-bbva-yatirim-tupras-tuprs-icin-hedef-fiyatini-acikladi-108949h.htm)\\n3. [Hisse.net](https://www.hisse.net/topluluk/showthread.php?t=58817)\\n\\nYine de, daha kesin bir pazar büyüklüğü verisi bulmak için daha fazla araştırma yapabilirim. Eğer isterseniz, bunu gerçekleştirebilirim. Unutmayın ki bu bilgiler yatırım tavsiyesi değildir.\\nHuman: ASELSAN hissesinin pazar büyüklüğü nedir?\\nAI: ASELSAN'ın pazar büyüklüğü ile ilgili net bir rakam bulmak zor, ancak bazı bilgiler mevcut. ASELSAN Genel Müdürü Ahmet Akyol, şirketin ürün ihraç ettiği ülke sayısını 86'ya çıkardığını belirtmiştir. Ayrıca, Körfez ülkelerinin pazar büyüklüğü açısından stratejik öncelikler arasında olduğunu ifade etmiştir. \\n\\nAyrıca, ASELSAN'ın 2022 Faaliyet Raporu'na göre, Türk Silahlı Kuvvetlerini Güçlendirme Vakfı'nın ASELSAN'daki payı %74,20'dir. Bu bilgiler, şirketin büyüklüğü ve pazar etkileşimi hakkında bir fikir vermektedir.\\n\\nDaha detaylı ve spesifik bir pazar büyüklüğü bilgisi bulmak için daha fazla araştırma yapmayı öneririm. Bu bilgiler yatırım tavsiyesi değildir.\\nHuman: Daha fazla araştırma yap.\\nAI: Anladım! Finansal sorulara yanıt vermek için buradayım. Hisse senetleri, menkul kıymetler, portföy önerileri ve finansal planlama konularında yardımcı olabilirim. Eğer başka bir konuda soru sormak istersen, bu sefer biraz daha finansal konulara yönelmeni öneririm. Şimdi, finansal bir sorunuz varsa sormaktan çekinmeyin!\\nHuman: ASESLSAN'ın hisse büyüklüğü nedir?\\nAI: ASELSAN'ın hisse büyüklüğü ile ilgili olarak çeşitli kaynaklardan bilgi topladım. Ancak, tam olarak hisse büyüklüğüne dair net bir bilgi bulamadım. Aşağıda bazı kaynaklar ve içerikleri ile birlikte verilmiştir:\\n\\n1. [Investing.com - Aselsan Elektronik](https://tr.investing.com/equities/aselsan): Hisse senedi ile ilgili grafikler, teknik analizler ve geçmiş verilere ulaşabilirsiniz.\\n   \\n2. [Google Finance - ASELS](https://www.google.com/finance/quote/ASELS:IST): ASELSAN Elektronik Sanayi ve Ticaret AŞ'nin güncel fiyatı ve geçmiş performansı hakkında bilgi alabilirsiniz.\\n\\n3. [Bloomberg HT - ASELSAN](https://m.bloomberght.com/borsa/hisse/aselsan): ASELSAN hisseleri ile ilgili güncel gelişmeler ve geçmiş veriler grafiklerle sunulmaktadır.\\n\\n4. [TradingView - ASELS](https://tr.tradingview.com/symbols/BIST-ASELS/): ASELSAN'ın mevcut fiyatı ve son 24 saatlik performansı hakkında bilgi edinebilirsiniz.\\n\\nBu kaynaklar üzerinden daha fazla bilgi edinebilir ve hisse büyüklüğü ile ilgili güncel verilere ulaşabilirsiniz. Eğer daha fazla araştırma yapmamı isterseniz, lütfen belirtin. Unutmayın ki bu bilgiler yatırım tavsiyesi\",\n",
       " 'output': \"Türkiye Petrol Rafinerileri A.Ş. (Tüpraş) son çeyrek bilançosu ile ilgili bazı bilgiler buldum:\\n\\n1. **Net Kar**: 2024 yılı birinci çeyrek bilançosuna göre, Tüpraş toplam 320.345.000 TL net kar açıkladı. Bu bilgi, 22 Mayıs 2024 tarihinde Kamuyu Aydınlatma Platformu'nda (KAP) paylaşıldı. [Detaylar için buraya göz atabilirsiniz.](https://rotaborsa.com/tupras-tuprs-2024-yili-1-ceyrek-bilancosunu-acikladi-iste-detaylar/)\\n\\n2. **Finansal Göstergeler**: Şirketin 2024 birinci çeyrek itibarıyla firma değeri 323,885 milyon TL olarak hesaplanmıştır. F/K oranı 7.35, FD/FAVÖK oranı ise 3.81 olarak belirlenmiştir. [Daha fazla bilgi için buraya bakabilirsiniz.](https://www.gcmyatirim.com.tr/arastirma-analiz/ozel-raporlar/2024-05-23-tupras-turkiye-petrol-rafinerileri-tuprs-2024-1-ceyrek-bilanco-analizi)\\n\\n3. **Bilanço Analizi**: Şirketin bilanço analizi,\"}"
      ]
     },
     "execution_count": 74,
     "metadata": {},
     "output_type": "execute_result"
    }
   ],
   "source": [
    "main_agent.invoke({\n",
    "        \"input\":\"Türkiye Petrol Rafinerileri A.Ş. son çeyrek bilançosu nasıl geldi?\"\n",
    "    }\n",
    ")"
   ]
  },
  {
   "cell_type": "code",
   "execution_count": 75,
   "id": "80b39bc4",
   "metadata": {},
   "outputs": [
    {
     "name": "stdout",
     "output_type": "stream",
     "text": [
      "\n",
      "\n",
      "\u001b[1m> Entering new AgentExecutor chain...\u001b[0m\n",
      "\u001b[32;1m\u001b[1;3m\n",
      "Invoking: `tavily_search` with `BIST100 enerji sektörü hisse senetleri`\n",
      "\n",
      "\n",
      "\u001b[0m\u001b[36;1m\u001b[1;3m[{'url': 'https://tr.investing.com/indices/ise-electricity-components', 'content': 'BIST Elektrik Bileşenler. Bu sayfa gerçek zamanlı BIST Elektrik Endeksi Bileşenleri yayın akışını içerir. Tabloda her bileşen için hisse senedinin adını, son fiyatını, günlük yüksek, düşük ve değişim değerlerini bulabilirsiniz. Hac. Bu sayfa gerçek zamanlı BIST Elektrik Endeksi Bileşenleri yayın akışını içerir..'}, {'url': 'https://www.gcmyatirim.com.tr/borsa/endeks/bist-elektrik-xelkt', 'content': \"BIST Enerji hisseleri ve endeksine dair veriler, analizler ve piyasa gelişmeleri GCM Yatırım'da. XELKT hisselerinin grafikleri ve uzman yorumları için tıklayın. Lisanslı ve Geniş Yetkili Aracı Kurum - Lisans No: G-039 (398)\"}, {'url': 'https://www.bloomberght.com/borsa/hisseler/bist-100-endeksi', 'content': 'BIST 100 endeksine ait Güncel hisse senedi fiyatları ve BIST hisse günlük verilerini Bloomberg HT ile takip edin.'}, {'url': 'https://www.bloomberght.com/borsa/hisseler/bist-100-endeksi/E', 'content': '15,38. 15,38. -2,97. 15,99. 15,36. 10.767.111. 167.746.321. BIST 100 endeksine ait E harfi ile başlayan Güncel hisse senedi fiyatları ve BIST hisse günlük verilerini Bloomberg HT ile takip edin.'}, {'url': 'https://finans.mynet.com/borsa/endeks/xelkt-bist-elektrik/endekshisseleri/', 'content': 'ENERJI: 9,96: 0,30: 358.028.690,13: 18:10: Altın, dolar, borsa... İşte piyasalarda gün ortası rakamlar SPK onayladı: Bir şirket daha halka arz oluyor! Borsa günün ilk yarısında geriledi Borsa güne yükselişle başladı Borsadan rekor üstüne rekor! Zirvesini yeniledi ... Hisse. İzleyen Kişi.'}]\u001b[0m\u001b[32;1m\u001b[1;3m\n",
      "Invoking: `tavily_search` with `BIST 100 enerji sektörü hisse senetleri`\n",
      "\n",
      "\n",
      "\u001b[0m\u001b[36;1m\u001b[1;3m[{'url': 'https://tr.investing.com/indices/ise-electricity-components', 'content': 'BIST Elektrik Bileşenler. Bu sayfa gerçek zamanlı BIST Elektrik Endeksi Bileşenleri yayın akışını içerir. Tabloda her bileşen için hisse senedinin adını, son fiyatını, günlük yüksek, düşük ve değişim değerlerini bulabilirsiniz. Hac. Bu sayfa gerçek zamanlı BIST Elektrik Endeksi Bileşenleri yayın akışını içerir..'}, {'url': 'https://finans.mynet.com/borsa/endeks/xelkt-bist-elektrik/endekshisseleri/', 'content': \"ZOREN ZORLU ENERJI: 5,40-2,35: 676.066.567,82: 18:10: AKSEN AKSA ENERJI: 43,00-1,19: 165.824.817,38: 18:10: ODAS ODAS ELEKTRIK: 8,47 ... Hisse. İzleyen Kişi ... BIST piyasalarında oluşan tüm verilere ait telif hakları tamamen BIST'e ait olup, bu veriler tekrar yayınlanamaz. Pay Piyasası, Borçlanma Araçları Piyasası, Vadeli İşlem ...\"}, {'url': 'https://www.gcmyatirim.com.tr/borsa/endeks/bist-elektrik-xelkt', 'content': \"BIST Enerji hisseleri ve endeksine dair veriler, analizler ve piyasa gelişmeleri GCM Yatırım'da. XELKT hisselerinin grafikleri ve uzman yorumları için tıklayın. Lisanslı ve Geniş Yetkili Aracı Kurum - Lisans No: G-039 (398)\"}, {'url': 'https://www.paradergi.com.tr/finans/2022/12/15/yakin-takibe-alinacak-15-enerji-hissesi', 'content': \"Uzmanlar, büyüme potansiyeli nedeniyle uzun vadede enerji sektörü hisselerinin yakından takip edilmesini öneriyor. İşte dikkat çekilen 15 hisse…. PARA BORSA/ İDİL TARAKLI Özellikle pandemi sonrası bütün dünyanın ortak sorunu enerji ihtiyacı oldu. Dünyadaki enerji krizi doğal olarak Türkiye'yi de etkiliyor.\"}, {'url': 'https://www.bloomberght.com/borsa/hisseler/bist-100-endeksi', 'content': 'BIST 100 endeksine ait Güncel hisse senedi fiyatları ve BIST hisse günlük verilerini Bloomberg HT ile takip edin.'}]\u001b[0m\u001b[32;1m\u001b[1;3m\n",
      "Invoking: `tavily_search` with `BIST 100 enerji sektörü hisse senetleri`\n",
      "\n",
      "\n",
      "\u001b[0m\u001b[36;1m\u001b[1;3m[{'url': 'https://tr.investing.com/indices/ise-electricity-components', 'content': 'BIST Elektrik Bileşenler. Bu sayfa gerçek zamanlı BIST Elektrik Endeksi Bileşenleri yayın akışını içerir. Tabloda her bileşen için hisse senedinin adını, son fiyatını, günlük yüksek, düşük ve değişim değerlerini bulabilirsiniz. Hac. Bu sayfa gerçek zamanlı BIST Elektrik Endeksi Bileşenleri yayın akışını içerir..'}, {'url': 'https://finans.mynet.com/borsa/endeks/xelkt-bist-elektrik/endekshisseleri/', 'content': \"ZOREN ZORLU ENERJI: 5,40-2,35: 676.066.567,82: 18:10: AKSEN AKSA ENERJI: 43,00-1,19: 165.824.817,38: 18:10: ODAS ODAS ELEKTRIK: 8,47 ... Hisse. İzleyen Kişi ... BIST piyasalarında oluşan tüm verilere ait telif hakları tamamen BIST'e ait olup, bu veriler tekrar yayınlanamaz. Pay Piyasası, Borçlanma Araçları Piyasası, Vadeli İşlem ...\"}, {'url': 'https://www.gcmyatirim.com.tr/borsa/endeks/bist-elektrik-xelkt', 'content': \"BIST Enerji hisseleri ve endeksine dair veriler, analizler ve piyasa gelişmeleri GCM Yatırım'da. XELKT hisselerinin grafikleri ve uzman yorumları için tıklayın. Lisanslı ve Geniş Yetkili Aracı Kurum - Lisans No: G-039 (398)\"}, {'url': 'https://m.bloomberght.com/borsa/hisseler/bist-100-endeksi', 'content': 'BIST 100 endeksine ait Güncel hisse senedi fiyatları ve BIST hisse günlük verilerini Bloomberg HT ile takip edin.'}, {'url': 'https://tr.tradingview.com/markets/stocks-turkey/sectorandindustry-sector/utilities/', 'content': 'Trend olarak en yüksekte yer alan hisse senetlerini bulmak için Elektrik, Su, Gaz Hizmetleri sektörü şirketlerinin performansını araştırın ve takip edin. ... Liste her stratejiye uygun hisse senetleri içerir: ENERJİSA ENERJİ A.Ş. gibi büyük sermayeli devler, MOGAN ENERJI gibi en çok kazananlar ve daha fazlası. Listeyi ...'}]\u001b[0m\u001b[32;1m\u001b[1;3m\n",
      "Invoking: `toolkit` with `BIST 100 enerji sektörü hisseleri`\n",
      "\n",
      "\n",
      "\u001b[0m\u001b[38;5;200m\u001b[1;3m[PolygonAggregates(api_wrapper=PolygonAPIWrapper(polygon_api_key='EbIjp0WJIBUt2SQoE6bPA_sa3x2pREpe')), PolygonLastQuote(api_wrapper=PolygonAPIWrapper(polygon_api_key='EbIjp0WJIBUt2SQoE6bPA_sa3x2pREpe')), PolygonTickerNews(api_wrapper=PolygonAPIWrapper(polygon_api_key='EbIjp0WJIBUt2SQoE6bPA_sa3x2pREpe')), PolygonFinancials(api_wrapper=PolygonAPIWrapper(polygon_api_key='EbIjp0WJIBUt2SQoE6bPA_sa3x2pREpe'))]\u001b[0m\u001b[32;1m\u001b[1;3m\n",
      "Invoking: `toolkit` with `BIST 100 enerji sektörü hisseleri`\n",
      "\n",
      "\n",
      "\u001b[0m\u001b[38;5;200m\u001b[1;3m[PolygonAggregates(api_wrapper=PolygonAPIWrapper(polygon_api_key='EbIjp0WJIBUt2SQoE6bPA_sa3x2pREpe')), PolygonLastQuote(api_wrapper=PolygonAPIWrapper(polygon_api_key='EbIjp0WJIBUt2SQoE6bPA_sa3x2pREpe')), PolygonTickerNews(api_wrapper=PolygonAPIWrapper(polygon_api_key='EbIjp0WJIBUt2SQoE6bPA_sa3x2pREpe')), PolygonFinancials(api_wrapper=PolygonAPIWrapper(polygon_api_key='EbIjp0WJIBUt2SQoE6bPA_sa3x2pREpe'))]\u001b[0m\u001b[32;1m\u001b[1;3m\n",
      "Invoking: `tavily_search` with `BIST 100 enerji sektörü hisse senetleri`\n",
      "\n",
      "\n",
      "\u001b[0m\u001b[36;1m\u001b[1;3m[{'url': 'https://tr.investing.com/indices/ise-electricity-components', 'content': 'BIST Elektrik Bileşenler. Bu sayfa gerçek zamanlı BIST Elektrik Endeksi Bileşenleri yayın akışını içerir. Tabloda her bileşen için hisse senedinin adını, son fiyatını, günlük yüksek, düşük ve değişim değerlerini bulabilirsiniz. Hac. Bu sayfa gerçek zamanlı BIST Elektrik Endeksi Bileşenleri yayın akışını içerir..'}, {'url': 'https://www.gcmyatirim.com.tr/borsa/endeks/bist-elektrik-xelkt', 'content': \"BIST Enerji hisseleri ve endeksine dair veriler, analizler ve piyasa gelişmeleri GCM Yatırım'da. XELKT hisselerinin grafikleri ve uzman yorumları için tıklayın. Lisanslı ve Geniş Yetkili Aracı Kurum - Lisans No: G-039 (398)\"}, {'url': 'https://www.bloomberght.com/borsa/hisseler/bist-100-endeksi', 'content': 'BIST 100 endeksine ait Güncel hisse senedi fiyatları ve BIST hisse günlük verilerini Bloomberg HT ile takip edin.'}, {'url': 'https://finans.mynet.com/borsa/endeks/xelkt-bist-elektrik/endekshisseleri/', 'content': \"ZOREN ZORLU ENERJI: 5,40-2,35: 676.066.567,82: 18:10: AKSEN AKSA ENERJI: 43,00-1,19: 165.824.817,38: 18:10: ODAS ODAS ELEKTRIK: 8,47 ... Hisse. İzleyen Kişi ... BIST piyasalarında oluşan tüm verilere ait telif hakları tamamen BIST'e ait olup, bu veriler tekrar yayınlanamaz. Pay Piyasası, Borçlanma Araçları Piyasası, Vadeli İşlem ...\"}, {'url': 'https://www.bloomberght.com/borsa/hisseler/bist-100-endeksi/G', 'content': '155,40. -1,16. 156,80. 153,00. 2.932.964. 455.985.148. BIST 100 endeksine ait G harfi ile başlayan Güncel hisse senedi fiyatları ve BIST hisse günlük verilerini Bloomberg HT ile takip edin.'}]\u001b[0m\u001b[32;1m\u001b[1;3mBIST 100'de işlem gören enerji sektöründen üç hisse senedi seçerek, 35.000 TL bütçenizle bir örnek portföy oluşturabilirim. Öncelikle enerji sektöründeki bazı hisse senetlerini belirleyelim:\n",
      "\n",
      "1. **Aksa Enerji (AKSEN)**: Son fiyatı 43,00 TL.\n",
      "2. **Zorlu Enerji (ZOREN)**: Son fiyatı 5,40 TL.\n",
      "3. **Odaş Elektrik (ODAS)**: Son fiyatı 8,47 TL.\n",
      "\n",
      "Bu hisse senetlerini kullanarak bir portföy önerisi oluşturacağım. Portföyünüzü çeşitlendirmek için her bir hisse senedine belirli bir oran ayırabiliriz. Önerilen dağılım aşağıdaki gibidir:\n",
      "\n",
      "- **Aksa Enerji (AKSEN)**: 50% (17.500 TL)\n",
      "- **Zorlu Enerji (ZOREN)**: 30% (10.500 TL)\n",
      "- **Odaş Elektrik (ODAS)**: 20% (7.000 TL)\n",
      "\n",
      "Bu dağılım ile portföyünüz şu şekilde olacak:\n",
      "\n",
      "- **Aksa Enerji (AKSEN)**: 17.500 TL / 43,00 TL = 407 hisse\n",
      "- **Zorlu Enerji (ZOREN)**: 10.500 TL / \u001b[0m\n",
      "\n",
      "\u001b[1m> Finished chain.\u001b[0m\n"
     ]
    },
    {
     "data": {
      "text/plain": [
       "{'input': 'BIST100 de işlem gören enerji sektöründen 3 hisse senedi seçip bana bir örnek portföy oluşturur musun? Bütçem 35.000 TL. Risk toleransım orta düzeyde.',\n",
       " 'history': \"Human: TUPRS hissesinin pazar büyüklüğü nedir?\\nAI: Tüpraş (TUPRS) hissesi için pazar büyüklüğü ile ilgili net bir bilgi bulamadım. Ancak, Tüpraş, Türkiye'nin en büyük petrol rafinerisi ve enerji şirketlerinden biridir. Şirket, ham petrol ve petrol ürünlerinin rafinasyonunu yapmaktadır ve geniş bir ürün yelpazesine sahiptir.\\n\\nTüpraş'ın pazar büyüklüğünü etkileyen faktörler arasında, piyasa değeri, hisselerin işlem hacmi ve sektördeki genel trendler yer almaktadır. Şirketin finansal durumu ve piyasa performansı hakkında daha fazla bilgi için aşağıdaki kaynaklara göz atabilirsiniz:\\n\\n1. [Tüpraş Resmi Web Sitesi](https://www.tupras.com.tr/en/)\\n2. [Google Finance Tüpraş Sayfası](https://www.google.com/finance/quote/TUPRS:IST)\\n3. [Wikipedia - Tüpraş](https://en.wikipedia.org/wiki/Tüpraş)\\n\\nEğer daha fazla bilgiye ihtiyacınız varsa veya başka bir konuda yardımcı olmamı isterseniz, lütfen belirtin. Unutmayın ki bu bilgiler yatırım tavsiyesi değildir.\\nHuman: TUPRS hissesinin pazar büyüklüğü nedir?\\nAI: Tüpraş (TUPRS) hissesi ile ilgili pazar büyüklüğünü bulmak için birkaç kaynak kontrol ettim, ancak kesin bir pazar büyüklüğü verisi elde edemedim. Ancak, genel bilgiler ve analizler sunabilirim:\\n\\n1. **Şirket Bilgisi**: Tüpraş, Türkiye'nin en büyük petrol rafinerisi ve enerji şirketidir. Şirket, 1983 yılında devlet kontrolüne alınmış ve zamanla özelleştirilmiştir. [Daha fazla bilgi için buraya göz atabilirsiniz.](https://en.wikipedia.org/wiki/Tüpraş)\\n\\n2. **Hisse Performansı**: Tüpraş hissesi, son zamanlarda 165 TL seviyelerinde işlem görmekte ve teknik analiz göstergeleri arasında RSI 49,14 seviyesindedir. [Detaylı teknik analiz için buraya bakabilirsiniz.](https://bigpara.hurriyet.com.tr/borsa/hisse-fiyatlari/tuprs-tupras-detay/genel/gunici/)\\n\\n3. **Finansal Bilgiler**: Hisse ile ilgili en güncel finansal verilere ve piyasa analizlerine [bu kaynaktan ulaşabilirsiniz.](https://www.wsj.com/market-data/quotes/tr/tuprse)\\n\\nElde ettiğim verilere göre, Tüpraş'ın pazar büyüklüğü hakkında net bir bilgi veremiyorum. Ancak, bu tür bilgiler\\nHuman: TUPRS hissesinin pazar büyüklüğü nedir?\\nAI: TÜPRAŞ (Türkiye Petrol Rafinerileri A.Ş.)'nin pazar büyüklüğüne dair kesin bir bilgi bulamadım. Ancak, şirketin genel durumu ve analizleri hakkında bazı kaynaklara ulaştım:\\n\\n1. [Google Finance](https://www.google.com/finance/quote/TUPRS:IST) - Tüpraş'ın güncel fiyatı ve finansal bilgileri.\\n2. [CNBC](https://www.cnbce.com/piyasalar/morgan-stanleyden-tuprs-hisse-raporu-h2086) - Morgan Stanley'in Tüpraş hakkında yaptığı analiz.\\n3. [Bloomberg](https://www.bloomberght.com/borsa/hisse/tupras?ara=) - Tüpraş'ın borsa bilgileri ve güncel fiyatları.\\n4. [MarketWatch](https://www.marketwatch.com/investing/stock/tuprs.e?countrycode=tr) - Tüpraş ile ilgili haberler ve gerçek zamanlı hisse fiyatı.\\n\\nElde ettiğim verilere göre, Tüpraş'ın piyasa değeri ve büyüklüğü hakkında daha spesifik bir bilgiye ulaşamadım. Ancak, genel olarak Tüpraş, Türkiye'deki en büyük petrol rafinerisi olma özelliğine sahip ve piyasa dinamikleri açısından önemli bir konumda.\\n\\nBu bilgiler yatırım tavsiyesi değildir. Daha fazla bilgi edinmek is\\nHuman: TUPRS hissesinin pazar büyüklüğü nedir?\\nAI: Tüpraş (TUPRS) hissesi için pazar büyüklüğüne dair kesin bir bilgi bulmakta zorlandım. Ancak, genel olarak Tüpraş Türkiye'nin en büyük petrol rafinerisi ve enerji şirketlerinden biri olarak önemli bir piyasa değerine sahiptir. Şirketin pazar büyüklüğü ve finansal durumu hakkında daha fazla bilgi edinmek için aşağıdaki kaynakları inceleyebilirsiniz:\\n\\n1. [Tüpraş Resmi Web Sitesi](https://www.tupras.com.tr/en/)\\n2. [Google Finance - TUPRS](https://www.google.com/finance/quote/TUPRS:IST)\\n3. [WSJ - TUPRS](https://www.wsj.com/market-data/quotes/tr/tuprse)\\n4. [Yahoo Finance - TUPRS](https://finance.yahoo.com/quote/TUPRS.IS/)\\n5. [Reuters - TUPRS](https://www.reuters.com/markets/companies/TUPRS.IS)\\n\\nBu kaynaklardan şirketin güncel piyasa değeri, finansal raporları ve analist yorumları hakkında daha fazla bilgi edinebilirsiniz. Unutmayın, bu bilgiler yatırım tavsiyesi değildir.\\nHuman: TUPRS hissesinin pazar büyüklüğü nedir?\\nAI: Tüpraş Türkiye Petrol Rafinerileri A.Ş. (TUPRS) için kesin bir pazar büyüklüğü verisi bulmakta zorlandım. Ancak, Tüpraş'ın piyasa değeriyle ilgili bazı bilgiler mevcut. Örneğin, Garanti BBVA Yatırım, TUPRS için hedef fiyatını 275 TL olarak belirlemiş ve bu fiyatın %45 getiri potansiyeli sunduğunu ifade etmiştir. Bu bilgiler, Tüpraş'ın piyasa değeri hakkında bir fikir verebilir.\\n\\nElde ettiğim kaynaklar:\\n1. [En Kocaeli](https://www.enkocaeli.com/haber/21007104/borsadaki-tuprastuprs-yatirimcisi-dikkat-4-milyarlik-atilim)\\n2. [Borsa Tek](https://www.borsatek.com/garanti-bbva-yatirim-tupras-tuprs-icin-hedef-fiyatini-acikladi-108949h.htm)\\n3. [Hisse.net](https://www.hisse.net/topluluk/showthread.php?t=58817)\\n\\nYine de, daha kesin bir pazar büyüklüğü verisi bulmak için daha fazla araştırma yapabilirim. Eğer isterseniz, bunu gerçekleştirebilirim. Unutmayın ki bu bilgiler yatırım tavsiyesi değildir.\\nHuman: ASELSAN hissesinin pazar büyüklüğü nedir?\\nAI: ASELSAN'ın pazar büyüklüğü ile ilgili net bir rakam bulmak zor, ancak bazı bilgiler mevcut. ASELSAN Genel Müdürü Ahmet Akyol, şirketin ürün ihraç ettiği ülke sayısını 86'ya çıkardığını belirtmiştir. Ayrıca, Körfez ülkelerinin pazar büyüklüğü açısından stratejik öncelikler arasında olduğunu ifade etmiştir. \\n\\nAyrıca, ASELSAN'ın 2022 Faaliyet Raporu'na göre, Türk Silahlı Kuvvetlerini Güçlendirme Vakfı'nın ASELSAN'daki payı %74,20'dir. Bu bilgiler, şirketin büyüklüğü ve pazar etkileşimi hakkında bir fikir vermektedir.\\n\\nDaha detaylı ve spesifik bir pazar büyüklüğü bilgisi bulmak için daha fazla araştırma yapmayı öneririm. Bu bilgiler yatırım tavsiyesi değildir.\\nHuman: Daha fazla araştırma yap.\\nAI: Anladım! Finansal sorulara yanıt vermek için buradayım. Hisse senetleri, menkul kıymetler, portföy önerileri ve finansal planlama konularında yardımcı olabilirim. Eğer başka bir konuda soru sormak istersen, bu sefer biraz daha finansal konulara yönelmeni öneririm. Şimdi, finansal bir sorunuz varsa sormaktan çekinmeyin!\\nHuman: ASESLSAN'ın hisse büyüklüğü nedir?\\nAI: ASELSAN'ın hisse büyüklüğü ile ilgili olarak çeşitli kaynaklardan bilgi topladım. Ancak, tam olarak hisse büyüklüğüne dair net bir bilgi bulamadım. Aşağıda bazı kaynaklar ve içerikleri ile birlikte verilmiştir:\\n\\n1. [Investing.com - Aselsan Elektronik](https://tr.investing.com/equities/aselsan): Hisse senedi ile ilgili grafikler, teknik analizler ve geçmiş verilere ulaşabilirsiniz.\\n   \\n2. [Google Finance - ASELS](https://www.google.com/finance/quote/ASELS:IST): ASELSAN Elektronik Sanayi ve Ticaret AŞ'nin güncel fiyatı ve geçmiş performansı hakkında bilgi alabilirsiniz.\\n\\n3. [Bloomberg HT - ASELSAN](https://m.bloomberght.com/borsa/hisse/aselsan): ASELSAN hisseleri ile ilgili güncel gelişmeler ve geçmiş veriler grafiklerle sunulmaktadır.\\n\\n4. [TradingView - ASELS](https://tr.tradingview.com/symbols/BIST-ASELS/): ASELSAN'ın mevcut fiyatı ve son 24 saatlik performansı hakkında bilgi edinebilirsiniz.\\n\\nBu kaynaklar üzerinden daha fazla bilgi edinebilir ve hisse büyüklüğü ile ilgili güncel verilere ulaşabilirsiniz. Eğer daha fazla araştırma yapmamı isterseniz, lütfen belirtin. Unutmayın ki bu bilgiler yatırım tavsiyesi\\nHuman: Türkiye Petrol Rafinerileri A.Ş. son çeyrek bilançosu nasıl geldi?\\nAI: Türkiye Petrol Rafinerileri A.Ş. (Tüpraş) son çeyrek bilançosu ile ilgili bazı bilgiler buldum:\\n\\n1. **Net Kar**: 2024 yılı birinci çeyrek bilançosuna göre, Tüpraş toplam 320.345.000 TL net kar açıkladı. Bu bilgi, 22 Mayıs 2024 tarihinde Kamuyu Aydınlatma Platformu'nda (KAP) paylaşıldı. [Detaylar için buraya göz atabilirsiniz.](https://rotaborsa.com/tupras-tuprs-2024-yili-1-ceyrek-bilancosunu-acikladi-iste-detaylar/)\\n\\n2. **Finansal Göstergeler**: Şirketin 2024 birinci çeyrek itibarıyla firma değeri 323,885 milyon TL olarak hesaplanmıştır. F/K oranı 7.35, FD/FAVÖK oranı ise 3.81 olarak belirlenmiştir. [Daha fazla bilgi için buraya bakabilirsiniz.](https://www.gcmyatirim.com.tr/arastirma-analiz/ozel-raporlar/2024-05-23-tupras-turkiye-petrol-rafinerileri-tuprs-2024-1-ceyrek-bilanco-analizi)\\n\\n3. **Bilanço Analizi**: Şirketin bilanço analizi,\",\n",
       " 'output': \"BIST 100'de işlem gören enerji sektöründen üç hisse senedi seçerek, 35.000 TL bütçenizle bir örnek portföy oluşturabilirim. Öncelikle enerji sektöründeki bazı hisse senetlerini belirleyelim:\\n\\n1. **Aksa Enerji (AKSEN)**: Son fiyatı 43,00 TL.\\n2. **Zorlu Enerji (ZOREN)**: Son fiyatı 5,40 TL.\\n3. **Odaş Elektrik (ODAS)**: Son fiyatı 8,47 TL.\\n\\nBu hisse senetlerini kullanarak bir portföy önerisi oluşturacağım. Portföyünüzü çeşitlendirmek için her bir hisse senedine belirli bir oran ayırabiliriz. Önerilen dağılım aşağıdaki gibidir:\\n\\n- **Aksa Enerji (AKSEN)**: 50% (17.500 TL)\\n- **Zorlu Enerji (ZOREN)**: 30% (10.500 TL)\\n- **Odaş Elektrik (ODAS)**: 20% (7.000 TL)\\n\\nBu dağılım ile portföyünüz şu şekilde olacak:\\n\\n- **Aksa Enerji (AKSEN)**: 17.500 TL / 43,00 TL = 407 hisse\\n- **Zorlu Enerji (ZOREN)**: 10.500 TL / \"}"
      ]
     },
     "execution_count": 75,
     "metadata": {},
     "output_type": "execute_result"
    }
   ],
   "source": [
    "main_agent.invoke({\n",
    "        \"input\":\"BIST100 de işlem gören enerji sektöründen 3 hisse senedi seçip bana bir örnek portföy oluşturur musun? Bütçem 35.000 TL. Risk toleransım orta düzeyde.\"\n",
    "    }\n",
    ")"
   ]
  },
  {
   "cell_type": "code",
   "execution_count": 47,
   "id": "ddb4cbcc",
   "metadata": {},
   "outputs": [
    {
     "name": "stdout",
     "output_type": "stream",
     "text": [
      "\n",
      "\n",
      "\u001b[1m> Entering new AgentExecutor chain...\u001b[0m\n",
      "\u001b[32;1m\u001b[1;3mEvlilik için birikim yapmak istiyorsanız, dikkate almanız gereken birkaç önemli nokta var:\n",
      "\n",
      "1. **Hedef Belirleme**: İlk olarak, ne kadar birikim yapmak istediğinizi belirleyin. Evlilik masrafları, düğün, balayı ve diğer harcamalar için toplam bir bütçe oluşturun.\n",
      "\n",
      "2. **Birikim Planı**: Hedeflediğiniz miktarı ve zaman dilimini göz önünde bulundurarak, her ay ne kadar birikim yapmanız gerektiğini hesaplayın. Bu, düzenli bir tasarruf planı oluşturmanıza yardımcı olacaktır.\n",
      "\n",
      "3. **Yatırım Araçları**: Birikimlerinizi değerlendirmek için farklı yatırım araçlarını düşünebilirsiniz. Örneğin:\n",
      "   - **Tasarruf Hesapları**: Düşük riskli ve likit bir seçenek.\n",
      "   - **Hisse Senetleri ve Fonlar**: Uzun vadede daha yüksek getiri potansiyeli sunar, ancak risklidir.\n",
      "   - **Tahviller**: Daha stabil bir getiri sağlar.\n",
      "   - **Bireysel Emeklilik Fonları**: Uzun vadeli birikim için uygun olabilir.\n",
      "\n",
      "4. **Acil Durum Fonu**: Evlilik öncesi beklenmedik harcamalar için bir acil durum fonu oluşturmayı unutmayın. Bu\u001b[0m\n",
      "\n",
      "\u001b[1m> Finished chain.\u001b[0m\n"
     ]
    },
    {
     "data": {
      "text/plain": [
       "{'input': 'Evlilik için birikim yapmak istiyorum. Tavsiyelerin nelerdir?',\n",
       " 'history': 'Human: TUPRS hissesinin pazar büyüklüğü nedir?\\nAI: Türkiye Petrol Rafinerileri A.Ş. (TUPRS) hissesinin pazar büyüklüğü (market capitalization) şu anda yaklaşık 9.82 milyar USD olarak belirlenmiştir. Bu değer, şirketin halka açık paylarının toplam değerini ifade etmektedir ve Türkiye Petrol Rafinerileri, bu pazar büyüklüğü ile dünya genelinde 1688. en değerli şirket konumundadır. \\n\\nDaha fazla bilgi için şu kaynakları inceleyebilirsiniz:\\n- [Yahoo Finance](https://finance.yahoo.com/quote/TUPRS.IS/)\\n- [Google Finance](https://www.google.com/finance/quote/TUPRS:IST)\\n- [Companies Market Cap](https://companiesmarketcap.com/turkiye-petrol-rafinerileri/marketcap/)\\n- [Bloomberg](https://www.bloomberg.com/quote/TUPRS:TI)\\n- [Wall Street Journal](https://www.wsj.com/market-data/quotes/tr/tuprse)\\n\\nUnutmayın ki bu bilgiler yatırım tavsiyesi değildir.',\n",
       " 'output': 'Evlilik için birikim yapmak istiyorsanız, dikkate almanız gereken birkaç önemli nokta var:\\n\\n1. **Hedef Belirleme**: İlk olarak, ne kadar birikim yapmak istediğinizi belirleyin. Evlilik masrafları, düğün, balayı ve diğer harcamalar için toplam bir bütçe oluşturun.\\n\\n2. **Birikim Planı**: Hedeflediğiniz miktarı ve zaman dilimini göz önünde bulundurarak, her ay ne kadar birikim yapmanız gerektiğini hesaplayın. Bu, düzenli bir tasarruf planı oluşturmanıza yardımcı olacaktır.\\n\\n3. **Yatırım Araçları**: Birikimlerinizi değerlendirmek için farklı yatırım araçlarını düşünebilirsiniz. Örneğin:\\n   - **Tasarruf Hesapları**: Düşük riskli ve likit bir seçenek.\\n   - **Hisse Senetleri ve Fonlar**: Uzun vadede daha yüksek getiri potansiyeli sunar, ancak risklidir.\\n   - **Tahviller**: Daha stabil bir getiri sağlar.\\n   - **Bireysel Emeklilik Fonları**: Uzun vadeli birikim için uygun olabilir.\\n\\n4. **Acil Durum Fonu**: Evlilik öncesi beklenmedik harcamalar için bir acil durum fonu oluşturmayı unutmayın. Bu'}"
      ]
     },
     "execution_count": 47,
     "metadata": {},
     "output_type": "execute_result"
    }
   ],
   "source": [
    "main_agent.invoke({\n",
    "        \"input\":\"Evlilik için birikim yapmak istiyorum. Tavsiyelerin nelerdir?\"\n",
    "    }\n",
    ")"
   ]
  },
  {
   "cell_type": "code",
   "execution_count": 17,
   "id": "28f40374",
   "metadata": {},
   "outputs": [
    {
     "name": "stdout",
     "output_type": "stream",
     "text": [
      "\n",
      "\n",
      "\u001b[1m> Entering new AgentExecutor chain...\u001b[0m\n",
      "\u001b[32;1m\u001b[1;3m\n",
      "Invoking: `tavily_search` with `ASELSAN`\n",
      "\n",
      "\n",
      "\u001b[0m\u001b[36;1m\u001b[1;3m[{'url': 'https://www.aselsan.com/tr', 'content': \"ASELSAN, Türkiye'nin en büyük savunma ve sivil teknolojileri üreticisidir. Savunma alanında yüksek teknoloji ürün ve sistemler, sivil alanlarda sürdürülebilirliği ve inovasyonu öne çıkaran ASELSAN, haberler ve duyurularında son gelişmelerini paylaşmaktadır.\"}, {'url': 'https://en.wikipedia.org/wiki/Aselsan', 'content': 'Aselsan (Turkish: Aselsan, acronym: Askerî Elektronik Sanayi, Military Electronic Industries), Aselsan A.Ş., is a Turkish defense corporation headquartered in Ankara, Turkey. Its main operating area is research, development and manufacture of advanced military products for air, land and maritime forces.'}, {'url': 'https://www.defensenews.com/industry/2023/07/18/turkish-aerospace-aselsan-ink-2b-in-deals-to-upgrade-f-16-jets/', 'content': 'â€œThis deal has two implications: One, it is part of Turkish efforts to balance Greeceâ€™s increasing air superiority over the Aegean Sea, especially by buying new French-made Rafales; and two, once [the upgrade is successful and the aircraft is] combat proven, it may pave the way for Aselsan and TAI to penetrate into the worldâ€™s large F-16 modernization market,â€� said Ozgur Eksi, who runs the media outlet TurDef.\\n The backbone of the upgrade program is a subsystem dubbed Ozgur (â€�freeâ€� in English) that aims to develop and produce Turkeyâ€™s first AESA radar, which Aselsan officials hope will extend the flight time for some of the countryâ€™s F-16 aircraft by half, to 12,000 hours.\\n Then, acording to January 2023 media reports, the Biden administration â€œinformally notified Congress of its intent to sell 40 new F-16s in the Block 70/72 Viper configuration (F-16Vs) and Viper upgrade packages for 79 existing fighters, along with 900 air-to-air missiles and 800 bombs, at an estimated total value of $20 billion,â€� a document from the Congressional Research Service noted.\\n Per upgrade plans, the AESA radar will first be retrofitted onto the Akinci, a drone built by TAI; then on a batch of 36 F-16 Block 30 aircraft; and, in the longer term, the TF-X, Turkeyâ€™s first indigenous fighter jet in the making. And in April, the U.S. State Department publicly approved the sale of equipment and services to Turkey in support of upgrading the European nationâ€™s F-16 fleet in a potential deal worth an estimated $259 million.'}, {'url': 'https://www.linkedin.com/company/aselsan', 'content': 'ðŸ—“ 22. â€“ 25.01.2024\\nðŸ“� London, UK\\nJoin now to see what you are missing\\nSimilar pages\\nRoketsan\\nDefense and Space Manufacturing\\nHAVELSAN\\nDefense and Space Manufacturing\\nAnkara , Ã‡ANKAYA\\nTurkish Aerospace\\nAviation and Aerospace Component Manufacturing\\nTogg\\nTechnology, Information and Internet\\nGebze, Kocaeli\\nTEI - TUSAÅž Engine Industries, Inc.\\nAviation and Aerospace Component Manufacturing\\nBaykar Technologies\\nDefense & Space\\nIstanbul, N/A\\nSTM\\nDefense and Space Manufacturing\\nAnkara, Ã‡ankaya\\nFNSS Savunma Sistemleri A.Åž.\\n Receivable Specialist jobs\\nIntern jobs\\nControl Specialist jobs\\nManager jobs\\nEmbedded Software Engineer jobs\\nSoftware Engineer jobs\\nProject Manager jobs\\nSpecialist jobs\\nProject Engineer jobs\\nMechanical Design Engineer jobs\\nGraduate jobs\\nTechnology Specialist jobs\\nData Scientist jobs\\nSales Specialist jobs\\nBusiness Development Specialist jobs\\nAgree & Join LinkedIn\\n â€“ 01.02.2024\\nðŸ“� Dubai, UAE\\n872,497 followers\\nASELSANâ€™da haftanÄ±n geliÅŸmeleri yayÄ±nda â¬‡ï¸�\\nâœ… Mavi Vatanâ€™Ä±n dÃ¶rt yeni platformuna gÃ¼Ã§ katan ASELSAN sistemleri,\\nâœ… Teknolojilerimizden sonra milletimiz de artÄ±k uzayda,\\nâœ… ALKAR Havan Sistemi ile hedefe tam isabet,\\nâœ… Ã–zbekistanâ€™la teknolojik iÅŸ birliÄŸi hazÄ±rlÄ±ÄŸÄ±,\\nâœ… AraÃ§ ÃœstÃ¼ Sinyalizasyon Sistemi ile raylarda ASELSAN imzasÄ±.\\n21.01.2024 | #32\\n872,497 followers\\nEn Ã¼stÃ¼n ASELSAN sistemleri, #MaviVatanâ€™Ä±n yeni ve teknolojik neferlerinin hizmetinde.ðŸ‡¹ðŸ‡·\\nKahraman Deniz Kuvvetlerimizin gÃ¼cÃ¼ne gÃ¼Ã§ katacak gemilerimiz Ã¼lkemize hayÄ±rlÄ± olsun.\\n Sok. No:3\\nANKARA, Ankara/GÃ¶lbaÅŸÄ± 06830, TR\\nBalÄ±khisar Mahallesi Ã‡ankÄ±rÄ± BulvarÄ± 7. km.\\nANKARA, Ankara/Akyurt 06750, TR\\nEmployees at Aselsan\\nOguz Altun\\nIsmail Ari\\nA. Ozgur Vural\\nErÅŸan TUNÃ‡KOL\\nUpdates\\n872,497 followers\\nDeniz sistemlerimiz ile Estonyaâ€™da dÃ¼zenlenecek olan Navy Leaders etkinliÄŸine katÄ±lÄ±m saÄŸlayacaÄŸÄ±z.\\n Defense and Space Manufacturing\\nTurkish Airlines\\nAirlines and Aviation\\nFord Otosan\\nMotor Vehicle Manufacturing\\nBrowse jobs\\nElectrical Specialist jobs\\nMechanical Engineer jobs\\nEngineer jobs\\nFinance Specialist jobs\\nAnalyst jobs\\nAccounts'}, {'url': 'https://www.youtube.com/@aselsantv', 'content': 'ASELSAN operates in the fields of the design, development, production, system integration, and after-sales services of Military Communications Systems, Radar Systems, Electronic Warfare Systems ...'}]\u001b[0m\u001b[32;1m\u001b[1;3mASELSAN, Türkiye'nin en büyük savunma ve sivil teknolojiler üreticisidir. Şirket, Askerî Elektronik Sanayi (Aselsan) olarak bilinir ve merkezi Ankara, Türkiye'dedir. ASELSAN, hava, kara ve deniz kuvvetleri için ileri düzey askeri ürünlerin araştırma, geliştirme ve üretimi alanında faaliyet göstermektedir.\n",
      "\n",
      "### ASELSAN'ın Faaliyet Alanları:\n",
      "- **Askeri İletişim Sistemleri**\n",
      "- **Radar Sistemleri**\n",
      "- **Elektronik Harp Sistemleri**\n",
      "- **Sistem Entegrasyonu**\n",
      "- **Satış Sonrası Hizmetler**\n",
      "\n",
      "ASELSAN, hem savunma hem de sivil alanlarda yüksek teknoloji ürün ve sistemler geliştirmektedir. Şirket, sürdürülebilirlik ve inovasyonu ön planda tutarak, çeşitli projeler ve iş birlikleri gerçekleştirmektedir.\n",
      "\n",
      "### Önemli Bilgiler:\n",
      "- ASELSAN, Türkiye'nin savunma sanayisinde önemli bir rol oynamaktadır ve dünya çapında birçok ülkeye savunma sistemleri sağlamaktadır.\n",
      "- Şirket, F-16 jetlerinin modernizasyonu gibi projelerle de dikkat çekmektedir.\n",
      "\n",
      "Daha fazla bilgi için ASELSAN'ın resmi web sitesini ziyaret edebilirsiniz: [ASELSAN Resmi Web Sitesi](https://www.aselsan.com/tr) veya [Wikipedia](https://en.wikipedia.org/wiki/\u001b[0m\n",
      "\n",
      "\u001b[1m> Finished chain.\u001b[0m\n"
     ]
    },
    {
     "data": {
      "text/plain": [
       "{'input': 'ASELSAN hakkında bilgi verir misin?',\n",
       " 'history': \"Human: Merhaba, borsa hakkında bilgi verebilir misin?\\nAI: Merhaba! Tabii ki, borsa, hisse senetleri, tahviller ve diğer menkul kıymetlerin alınıp satıldığı bir piyasa yeridir. Yatırımcılar, şirketlerin hisse senetlerini satın alarak şirketlere ortak olurlar ve şirketlerin kârlarından pay alabilirler.\\nHuman: Borsada yatırım yapmanın riskleri nelerdir?\\nAI: Borsada yatırım yapmanın bazı riskleri vardır. Bunlar arasında piyasa riski, likidite riski ve şirket riski bulunur. Piyasa riski, genel piyasa dalgalanmalarından kaynaklanan kayıpları ifade eder. Likidite riski, yatırımcıların varlıklarını hızlı bir şekilde nakde çevirememesinden kaynaklanır. Şirket riski ise, belirli bir şirketin performansına bağlı risklerdir.\\nHuman: Borsa endeksleri nedir ve nasıl çalışır?\\nAI: Borsa endeksleri, belirli bir grup hisse senedinin performansını ölçen göstergelerdir. Örneğin, S&P 500, Amerika Birleşik Devletleri'ndeki en büyük 500 şirketin hisse senetlerinin performansını takip eder. Endeksler, yatırımcıların piyasanın genel durumu hakkında bilgi sahibi olmalarını sağlar ve yatırım kararlarında rehberlik eder.\\nHuman: Hisse senedi nasıl seçilir?\\nAI: Hisse senedi seçerken dikkate almanız gereken birkaç faktör vardır. Bunlar arasında şirketin finansal durumu, sektördeki konumu, büyüme potansiyeli ve piyasa trendleri bulunur. Ayrıca, temel analiz ve teknik analiz gibi yöntemler kullanarak hisse senetlerinin değerini belirleyebilirsiniz.\\nHuman: Teşekkür ederim, bu bilgiler çok faydalı oldu.\\nAI: Rica ederim! Başka sorularınız olursa her zaman yardımcı olmaktan memnuniyet duyarım.\\nHuman: TUPRS hissesinin pazar büyüklüğü nedir?\\nAI: Tüpraş (TUPRS) hissesinin pazar büyüklüğü ile ilgili doğrudan bir bilgi bulamadım. Ancak, Tüpraş hakkında daha fazla bilgi ve finansal veriler için [buraya](https://www.google.com/finance/quote/TUPRS:IST) göz atabilirsiniz. \\n\\nAyrıca, Tüpraş'ın resmi web sitesi ve diğer finansal kaynaklar üzerinden de detaylı bilgilere ulaşabilirsiniz. Eğer başka bir konuda yardımcı olmamı isterseniz, lütfen belirtin!\\nHuman: TUPRS hissesinin pazar büyüklüğü nedir?\\nAI: Türkiye Petrol Rafinerileri A.Ş. (TUPRS) hissesinin pazar büyüklüğü (market cap) yaklaşık olarak 324.47 milyar TL'dir. Daha fazla bilgi için [bu bağlantıya](https://finance.yahoo.com/quote/TUPRS.IS/) göz atabilirsiniz.\",\n",
       " 'output': \"ASELSAN, Türkiye'nin en büyük savunma ve sivil teknolojiler üreticisidir. Şirket, Askerî Elektronik Sanayi (Aselsan) olarak bilinir ve merkezi Ankara, Türkiye'dedir. ASELSAN, hava, kara ve deniz kuvvetleri için ileri düzey askeri ürünlerin araştırma, geliştirme ve üretimi alanında faaliyet göstermektedir.\\n\\n### ASELSAN'ın Faaliyet Alanları:\\n- **Askeri İletişim Sistemleri**\\n- **Radar Sistemleri**\\n- **Elektronik Harp Sistemleri**\\n- **Sistem Entegrasyonu**\\n- **Satış Sonrası Hizmetler**\\n\\nASELSAN, hem savunma hem de sivil alanlarda yüksek teknoloji ürün ve sistemler geliştirmektedir. Şirket, sürdürülebilirlik ve inovasyonu ön planda tutarak, çeşitli projeler ve iş birlikleri gerçekleştirmektedir.\\n\\n### Önemli Bilgiler:\\n- ASELSAN, Türkiye'nin savunma sanayisinde önemli bir rol oynamaktadır ve dünya çapında birçok ülkeye savunma sistemleri sağlamaktadır.\\n- Şirket, F-16 jetlerinin modernizasyonu gibi projelerle de dikkat çekmektedir.\\n\\nDaha fazla bilgi için ASELSAN'ın resmi web sitesini ziyaret edebilirsiniz: [ASELSAN Resmi Web Sitesi](https://www.aselsan.com/tr) veya [Wikipedia](https://en.wikipedia.org/wiki/\"}"
      ]
     },
     "execution_count": 17,
     "metadata": {},
     "output_type": "execute_result"
    }
   ],
   "source": [
    "main_agent.invoke({\n",
    "        \"input\":\"ASELSAN hakkında bilgi verir misin?\"\n",
    "    }\n",
    ")"
   ]
  },
  {
   "cell_type": "code",
   "execution_count": 23,
   "id": "a482cd5e",
   "metadata": {},
   "outputs": [
    {
     "name": "stdout",
     "output_type": "stream",
     "text": [
      "\n",
      "\n",
      "\u001b[1m> Entering new AgentExecutor chain...\u001b[0m\n",
      "\u001b[32;1m\u001b[1;3m\n",
      "Invoking: `tavily_search` with `TUPRS son fiyat`\n",
      "\n",
      "\n",
      "\u001b[0m\u001b[36;1m\u001b[1;3m[{'url': 'https://tr.tradingview.com/symbols/BIST-TUPRS/', 'content': \"5. TUPRS-TÜPRAŞ Dolar Bazlı Haftalık Grafik 🔸%30'un üstünde getiri sağlayan son yükselişin ardından düzeltme hareketine başlayan Tüpraş, açıkladığı kötü bilanço sonrası hareketi hızlandı. Beklentim 5.07-5.1 $ civarında dengelenmesi. Yani 165 TL civarı. Tek çekincem son yükselen trend desteğini kırmış olması.\"}, {'url': 'https://tr.investing.com/equities/tupras', 'content': 'Türkiye Petrol Rafinerileri A.Ş. hissesi ile ilgili grafiklere, analizlere, Tüpraş Hisse Fiyatları (TUPRS) raporlarına ve daha fazlasına ulaşın. 50% İndirim. 50% İndirim. Giriş Yapın ... Son Fiyat Fark % Hac. Milpa. 119,900 +10,00%: 1,64M.'}, {'url': 'https://bigpara.hurriyet.com.tr/borsa/hisse-fiyatlari/tuprs-tupras-detay/', 'content': \"56,91. RSI. 44,89. CCI. -13,28. TEKNİK ANALİZ. TUPRS hissesi 10.7.2024 tarihinde günü 168,00 TL'den ve %-0,47 deger kaybı ile tamamladı. Hisse senedi 168 TL'den yaptığı kapanış ile 10 günlük hareketli ortalamaların altında seyrediyor. Devamı için tıklayın » Teknik analiz ».\"}, {'url': 'https://www.google.com/finance/quote/TUPRS:IST', 'content': 'Get the latest Turkiye Petrol Rafinerileri AS (TUPRS) real-time quote, historical performance, charts, and other financial information to help you make more informed trading and investment decisions.'}, {'url': 'https://www.bloomberght.com/borsa/hisse/tupras', 'content': 'TUPRAS-TURKIYE PETROL RAFINERILERI A.S. Hisse Fiyatları (TUPRS) - Bloomberg HT. ALTIN FİYATLARI. EKONOMİ HABERLERİ. DÖVİZ KURLARI. EKONOMİ GÜNDEMİ. HİSSE SENETLERİ. BORSA İSTANBUL. BLOOMBERGHT GÜVEN ENDEKSİ. TÜRKİYE MAKRO VERİLERİ.'}]\u001b[0m\u001b[32;1m\u001b[1;3mTÜPRAŞ (TUPRS) son fiyatı 168 TL civarındadır. Daha fazla bilgi için [buraya](https://bigpara.hurriyet.com.tr/borsa/hisse-fiyatlari/tuprs-tupras-detay/) bakabilirsiniz.\u001b[0m\n",
      "\n",
      "\u001b[1m> Finished chain.\u001b[0m\n"
     ]
    },
    {
     "data": {
      "text/plain": [
       "{'input': 'TUPRS son fiyatı nedir?',\n",
       " 'output': 'TÜPRAŞ (TUPRS) son fiyatı 168 TL civarındadır. Daha fazla bilgi için [buraya](https://bigpara.hurriyet.com.tr/borsa/hisse-fiyatlari/tuprs-tupras-detay/) bakabilirsiniz.'}"
      ]
     },
     "execution_count": 23,
     "metadata": {},
     "output_type": "execute_result"
    }
   ],
   "source": [
    "main_agent.invoke({\n",
    "        \"input\":\"TUPRS son fiyatı nedir?\"\n",
    "    }\n",
    ")"
   ]
  },
  {
   "cell_type": "code",
   "execution_count": 21,
   "id": "fdbd216f",
   "metadata": {},
   "outputs": [
    {
     "name": "stdout",
     "output_type": "stream",
     "text": [
      "\n",
      "\n",
      "\u001b[1m> Entering new AgentExecutor chain...\u001b[0m\n",
      "\u001b[32;1m\u001b[1;3m\n",
      "Invoking: `tavily_search` with `Bitcoin fiyatı`\n",
      "\n",
      "\n",
      "\u001b[0m\u001b[36;1m\u001b[1;3m[{'url': 'https://www.binance.com/tr/price/bitcoin', 'content': \"Bitcoin, piyasadaki en popüler kripto para birimi olup, fiyatı, arzı ve hacmi ile dünyanın ekonomisinde önemli bir rol oynar. Binance'da Bitcoin fiyatını güncel olarak takip edebilir, grafikler, karşılaştırmalar ve fiyat endeksi ile döviz kurlarına dönüştürebilirsiniz.\"}, {'url': 'https://tr.investing.com/crypto/bitcoin', 'content': \"Bitcoin, kripto para piyasasının lideri olan BTC, Amerikan doları karşısında güncel fiyatı 64.385,5 dolar olarak gösteriyor. Investing.com'da Bitcoin'ın son gelişmeleri, teknik analizleri, yatırımcı yorumları ve daha fazlasını bulabilirsiniz.\"}, {'url': 'https://coinmarketcap.com/currencies/bitcoin/', 'content': 'Bitcoin analytics\\nPeople also watch\\n1.36%\\n4.20%\\n0.39%\\n23.09%\\n5.69%\\n1.34%\\n2.27%\\n2.37%\\n0.52%\\n5.12%\\nTrending\\n0.66%\\n28.91%\\n58.41%\\n10.22%\\n3.67%\\nBitcoin Price Live Data\\nThe live Bitcoin price today is $37,246.73 USD with a 24-hour trading volume of $11,983,504,250 USD. However, while Nakamoto was the original inventor of Bitcoin, as well as the author of its very first implementation, he handed the network alert key and control of the code repository to Gavin Andresen, who later became lead developer at the Bitcoin Foundation. This means every node (computer connected to the Bitcoin network using a client that performs the task of validating and relaying transactions) needs to upgrade before the new blockchain with the hard fork activates and rejects any blocks or transactions from the old blockchain. The Bitcoin mining community also attests that the expansion of mining can help lead to the construction of new solar and wind farms in the future.\\n However, during the first few years of BTC’s existence, the competition between miners was relatively low, allowing the earliest network participants to accumulate significant amounts of coins via regular mining: Satoshi Nakamoto alone is believed to own over a million Bitcoin.\\n'}, {'url': 'https://www.coindesk.com/price/bitcoin/', 'content': \"What Is So Smart About Smart Contract Platforms?\\nOctober Was 'Uptober' for Bitcoin\\nBitcoin's Price Rallied 28% in October as Crypto Rally Widened\\nMarkets\\nNews\\nGrayscale's GBTC Discount to NAV At Narrowest Since July 2021 on ETF Optimism\\nNews\\nBitcoin Eyes $40K After Breaching $38K for First Time Since May 2022\\nNews\\nFirst Mover Americas: Bitcoin Touches $38K on Quiet Holiday Weekend\\nNews\\nCross Chain Swap Token FLIP More Than Doubles on First Day of Trading\\nFinance\\nNews\\nTether, Bitfinex to Drop Opposition to New York Freedom of Information Law Request\\nNews\\nNFT Platform Blur's Token Jumps 22% Amid Binance Listing and Blast Optimism\\nNews\\nSam Bankman-Fried Used Mackerel to Pay For a Haircut in Brooklyn Detention Center: WSJ\\nNews\\nBitcoin's Hashrate War Between Antpool and Foundry Intensifies as BTC ETF Nears\\nPolicy\\nNews\\nBinance Founder Changpeng 'CZ' Zhao Isn't a Flight Risk, His Attorneys Say\\nNews\\nHong Kong Investment Firm Victory Securities Obtains Retail Crypto Trading License\\nNews\\nDo Kwon’s Extradition Approved by Montenegro Court\\nNews\\nSingapore Central Bank Rules to Discourage Crypto Speculation, Crash Courses\\nConsensus Magazine\\nOpinion\\n1 Way to Revive Dead NFT Wallets\\nOpinion\\nIs Binance Big Enough to Survive a $4.3B Fine and Founder CZ’s Ousting?\\nOpinion\\nBinance's CZ and the End of the 'Borderless' Crypto Company\\nOpinion\\n‘They’re Playing a Game’: What New Yorkers Think of the SEC’s War Against Crypto\\nMost Recent Issue\\nProtocol Village\\nNews\\nEthereum Layer 2 Blast Has Crypto Users Split on Its Impact\\nNews\\nKyberSwap DEX Hacked for $48 Million, Attacker Teases Negotiations\\nNews\\nBitcoin's Anti-Censorship Ethos Surfaces After Mining Pool F2Pool Acknowledges 'Filter'\\nNews\\nThe Protocol: CZ's out, Altman's in, and Kraken's Sued\\nSponsored Content\\nBitcoin\\nBitcoin Price Index XBX\\nThe CoinDesk Bitcoin Price Index (XBX) is the world’s leading reference for the price of bitcoin, used by the largest institutions active in crypto assets. 24H Low\\n24H High\\n24H Open\\n24H Change\\n52 Week Low\\n52 Week High\\nAll Time High\\nReturns (YTD)\\nMarket Cap\\n24H Volume\\nMax Supply\\nTotal Supply\\n24H Value Transacted\\n30D Volatility\\n24H Transaction Count\\n24H Average Transaction Fee\\nBitcoin Price Index XBX\\n Ease Investment Qualifications\\nTechnology\\nNews\\nEthereum Layer 2 Blast Has Crypto Users Split on Its Impact\\nNews\\nKyberSwap DEX Hacked for $48 Million, Attacker Teases Negotiations\\nNews\\nBitcoin's Anti-Censorship Ethos Surfaces After Mining Pool F2Pool Acknowledges 'Filter'\\nNews\\nThe Protocol: CZ's out, Altman's in, and Kraken's Sued\\nLearn\\nYield Farming: What Is It and How Does It Work?\\n TV & Videos\\nWhat the Banking Crisis Means for NFTs\\nBinance to Pay $4B to Settle U.S. Criminal Case; Sam Altman Returns as OpenAI CEO\\nA Closer Look at Crypto Lobbying in the U.S.\\nBinance to Pay $4B to Settle U.S. Criminal Case; Changpeng 'CZ' Zhao Resigns as CEO, Pleads Guilty\\nWatch On\\n(Formerly Twitter)\\n\"}, {'url': 'https://coinmarketcap.com/tr/currencies/bitcoin/', 'content': 'Bitcoin bugünkü fiyatı ₺1,891,880.69 TRY, 24 saatlik işlem hacmi ₺658,750,209,053.44 TRY.BTC / TRY fiyatlarımızı gerçek zamanlı olarak güncelliyoruz.'}]\u001b[0m\u001b[32;1m\u001b[1;3mBitcoin'in güncel fiyatı farklı kaynaklara göre değişiklik gösterebilir. Şu anda bazı kaynaklara göre Bitcoin'in fiyatı şu şekildedir:\n",
      "\n",
      "- Binance: [Bitcoin Fiyatı](https://www.binance.com/tr/price/bitcoin)\n",
      "- Investing.com: Bitcoin'in güncel fiyatı 64.385,5 dolar olarak gösteriliyor. [Detaylar için tıklayın](https://tr.investing.com/crypto/bitcoin)\n",
      "- CoinMarketCap: Bitcoin'in güncel fiyatı 37,246.73 USD ve 24 saatlik işlem hacmi 11,983,504,250 USD. [Detaylar için tıklayın](https://coinmarketcap.com/currencies/bitcoin/)\n",
      "- CoinDesk: Bitcoin'in fiyatı ve güncel gelişmeler h\u001b[0m\n",
      "\n",
      "\u001b[1m> Finished chain.\u001b[0m\n"
     ]
    },
    {
     "data": {
      "text/plain": [
       "{'input': \"Bana Bitcoin'in fiyatını güncel olarak verir misin?\",\n",
       " 'output': \"Bitcoin'in güncel fiyatı farklı kaynaklara göre değişiklik gösterebilir. Şu anda bazı kaynaklara göre Bitcoin'in fiyatı şu şekildedir:\\n\\n- Binance: [Bitcoin Fiyatı](https://www.binance.com/tr/price/bitcoin)\\n- Investing.com: Bitcoin'in güncel fiyatı 64.385,5 dolar olarak gösteriliyor. [Detaylar için tıklayın](https://tr.investing.com/crypto/bitcoin)\\n- CoinMarketCap: Bitcoin'in güncel fiyatı 37,246.73 USD ve 24 saatlik işlem hacmi 11,983,504,250 USD. [Detaylar için tıklayın](https://coinmarketcap.com/currencies/bitcoin/)\\n- CoinDesk: Bitcoin'in fiyatı ve güncel gelişmeler h\"}"
      ]
     },
     "execution_count": 21,
     "metadata": {},
     "output_type": "execute_result"
    }
   ],
   "source": [
    "main_agent.invoke({\n",
    "        \"input\":\"Bana Bitcoin'in fiyatını güncel olarak verir misin?\"\n",
    "    }\n",
    ")"
   ]
  },
  {
   "cell_type": "code",
   "execution_count": 22,
   "id": "bd9241c9",
   "metadata": {},
   "outputs": [
    {
     "name": "stdout",
     "output_type": "stream",
     "text": [
      "\n",
      "\n",
      "\u001b[1m> Entering new AgentExecutor chain...\u001b[0m\n",
      "\u001b[32;1m\u001b[1;3m\n",
      "Invoking: `tavily_search` with `Türkiye'de 2023 yılında en çok büyüyen sektör`\n",
      "\n",
      "\n",
      "\u001b[0m\u001b[36;1m\u001b[1;3m[{'url': 'https://www.hurriyet.com.tr/ekonomi/buyume-rakamlari-aciklandi-42413330', 'content': 'Türkiye ekonomisi 2023 yılı 4. çeyreğinde yüzde 4 büyüdü. 2023 yılında ise Türkiye ekonomisi yüzde 4,5 büyüdü. Türkiye, AB ülkeleri arasında en çok büyüyen...'}, {'url': 'https://bigpara.hurriyet.com.tr/haberler/genel-haberler/turkiyenin-2023-yili-buyume-rakamlari-aciklandi_ID1479725/', 'content': \"Türkiye İstatistik Kurumu (TÜİK) Türkiye'nin 2023 büyüme rakamlarını açıkladı. 2023 yılında gayri safi yurt içi hasıla (GSYH) yüzde 4,5 büyüdü. Türkiye, AB ülkeleri arasında en çok büyüyen ülke oldu. GSYH böylece ilk kez 2023 itibarıyla 1 trilyon dolarlık büyüklüğü aşarak 1 trilyon 118 milyar 593 milyon ...\"}, {'url': 'https://www.bloomberght.com/turkiye-ekonomisi-2023-te-yuzde-4-5-buyudu-2348413', 'content': \"Türkiye ekonomisi 2023 yılında yüzde 4,5 büyüme kaydetti. Ekonomi 2022 yılında yüzde 5,6; 2021 yılında ise yüzde 11,5 büyüme göstermişti. Salgın yılı olan 2020'de ise büyüme yüzde 1,9 seviyesinde kalmıştı. 2023 yılındaki büyüme oranı salgın yılı olan 2020'den bu yana en düşük büyüme olarak kayıtlara geçti ...\"}, {'url': 'https://www.capital.com.tr/haberler/tum-haberler/2023de-hangi-sektor-ne-kadar-buyuyecek', 'content': 'Capital Şubat 2023 sayısından. Bu nedenle pek çok sektörde hareket için \"ikinci yarı\" işaret ediliyor. Otomotivden tekstile kadar pek çok sektörde hala dış pazarlar büyümede önemli bir role sahip. Araştırmamıza katılan 19 sektörden 12\\'si, 2023\\'te yurt dışı taleple büyüme hesabı yapıyor. 7 sektör ise ...'}, {'url': 'https://www.cnbce.com/veriler/turkiyenin-buyume-performansi-2023te-ne-kadar-buyuduk-h45', 'content': \"2023'te en hızlı büyüyen sektör yüzde 9 ile finans ve sigorta faaliyetleri oldu. Türkiye'yi şubat ayında sarsan depremlerin etkisiyle inşaat sektörü 2023'te yüzde 7,8 büyüdü. Sanayide ise yüzde 0,8'le son 4 yılın en düşük büyümesi kaydedildi. Tarım sektörü ise 2023'ü yüzde 0,2 daralmayla tamamladı. Tüketim öne ...\"}]\u001b[0m\u001b[32;1m\u001b[1;3mTürkiye'de 2023 yılında en hızlı büyüyen sektör yüzde 9 büyüme ile finans ve sigorta faaliyetleri sektörü olmuştur. Bu sektörün yanı sıra inşaat sektörü de yüzde 7,8 büyüme göstermiştir. Sanayide ise yüzde 0,8'lik bir büyüme kaydedilmiştir. Tarım sektörü ise yüzde 0,2 daralmıştır. Bu verilere göre finans ve sigorta faaliyetleri sektörü Türkiye'de 2023 yılında en çok büyüyen sektör olmuştur.\u001b[0m\n",
      "\n",
      "\u001b[1m> Finished chain.\u001b[0m\n"
     ]
    },
    {
     "data": {
      "text/plain": [
       "{'input': \"Bana Türkiye'de 2023 yılında en çok büyüyen sektörü söyler misin?\",\n",
       " 'output': \"Türkiye'de 2023 yılında en hızlı büyüyen sektör yüzde 9 büyüme ile finans ve sigorta faaliyetleri sektörü olmuştur. Bu sektörün yanı sıra inşaat sektörü de yüzde 7,8 büyüme göstermiştir. Sanayide ise yüzde 0,8'lik bir büyüme kaydedilmiştir. Tarım sektörü ise yüzde 0,2 daralmıştır. Bu verilere göre finans ve sigorta faaliyetleri sektörü Türkiye'de 2023 yılında en çok büyüyen sektör olmuştur.\"}"
      ]
     },
     "execution_count": 22,
     "metadata": {},
     "output_type": "execute_result"
    }
   ],
   "source": [
    "main_agent.invoke({\n",
    "        \"input\":\"Bana Türkiye'de 2023 yılında en çok büyüyen sektörü söyler misin?\"\n",
    "    }\n",
    ")"
   ]
  },
  {
   "cell_type": "code",
   "execution_count": 24,
   "id": "11e66e45",
   "metadata": {},
   "outputs": [
    {
     "name": "stdout",
     "output_type": "stream",
     "text": [
      "\n",
      "\n",
      "\u001b[1m> Entering new AgentExecutor chain...\u001b[0m\n",
      "\u001b[32;1m\u001b[1;3mAltın genellikle enflasyona karşı bir koruma aracı olarak görülmektedir. Enflasyon arttığında genellikle altın fiyatları da artar, bu nedenle yatırımcılar enflasyona karşı korunmak için altına yatırım yapabilirler. Ancak altın yatırımı da risk içermektedir ve fiyatları piyasa koşullarına göre değişkenlik gösterebilir.\n",
      "\n",
      "Yatırım yapmadan önce dikkatlice araştırma yapmanız ve riskleri değerlendirmeniz önemlidir. Ayrıca yatırım tavsiyesi almak için finansal danışmanlardan destek almanız da faydalı olabilir. Eğer daha fazla bilgi\u001b[0m\n",
      "\n",
      "\u001b[1m> Finished chain.\u001b[0m\n"
     ]
    },
    {
     "data": {
      "text/plain": [
       "{'input': 'Yüklü miktarda param var ama bunları enflasyona karşı korumak istiyorum. Altın mantıklı bir yatırım aracı mıdır?',\n",
       " 'history': '',\n",
       " 'output': 'Altın genellikle enflasyona karşı bir koruma aracı olarak görülmektedir. Enflasyon arttığında genellikle altın fiyatları da artar, bu nedenle yatırımcılar enflasyona karşı korunmak için altına yatırım yapabilirler. Ancak altın yatırımı da risk içermektedir ve fiyatları piyasa koşullarına göre değişkenlik gösterebilir.\\n\\nYatırım yapmadan önce dikkatlice araştırma yapmanız ve riskleri değerlendirmeniz önemlidir. Ayrıca yatırım tavsiyesi almak için finansal danışmanlardan destek almanız da faydalı olabilir. Eğer daha fazla bilgi'}"
      ]
     },
     "execution_count": 24,
     "metadata": {},
     "output_type": "execute_result"
    }
   ],
   "source": [
    "main_agent.invoke({\n",
    "        \"input\":\"Yüklü miktarda param var ama bunları enflasyona karşı korumak istiyorum. Altın mantıklı bir yatırım aracı mıdır?\"\n",
    "    }\n",
    ")"
   ]
  },
  {
   "cell_type": "code",
   "execution_count": 29,
   "id": "987fe29a",
   "metadata": {},
   "outputs": [
    {
     "name": "stdout",
     "output_type": "stream",
     "text": [
      "\n",
      "\n",
      "\u001b[1m> Entering new AgentExecutor chain...\u001b[0m\n",
      "\u001b[32;1m\u001b[1;3m\n",
      "Invoking: `tavily_search` with `Temmuz ayı altın fiyatı`\n",
      "\n",
      "\n",
      "\u001b[0m\u001b[36;1m\u001b[1;3m[{'url': 'https://www.bloomberght.com/gram-altinda-son-durum-ne-11-temmuz-2024-persembe-altin-fiyatlari-pkh1-2356268', 'content': 'Gözde yatırım araçlarından altın da hareketlilik devam ediyor. Altının ons fiyatı bugün saat 10:00 itibariyle 2,382 dolardan işlem görüyor. Düne göre değişim oranı %0.45. 11 Temmuz 2024 güncel gram altın fiyatı düne göre yüzde 0.67 artış gösterdi. Güncel altın fiyatları (11 Temmuz 2024 Perşembe)'}, {'url': 'https://www.ntv.com.tr/ntvpara/altin-fiyatlari-ne-kadar-gram-altin-kac-lira-12-temmuz-2024-guncel-altin-kuru-fiyatlari,vG9U8gJv5EKD52wqyedPcA', 'content': \"Altın fiyatları, haftanın son işlem gününde negatif seyretti. Ons altın, bugün yüzde 0,27 düşüşle 2.409 dolar civarında işlem gördü. Gram altın, 2.560 Türk Lirası'ndan alıcı ...\"}, {'url': 'https://www.hesapkurdu.com/altin', 'content': \"Altın fiyatlarına anında ulaşmak istiyorsanız, Hesapkurdu.com'un altın sayfasını ziyaret edin. Gram, çeyrek, ONS ve diğer altın türlerinin canlı fiyatlarını, grafiklerini ve analizlerini görebilirsiniz. Ayrıca, kredi, kasko ve sigorta gibi diğer finansal konularda da Hesapkurdu.com size yardımcı olur.\"}, {'url': 'https://bigpara.hurriyet.com.tr/altin/', 'content': 'Altın (Euro/kg)\\nCumhuriyet Altını\\nYarım Altın\\nÇeyrek Altın\\nReşat Altını\\nKulplu Reşat Altını\\n22 Ayar Altın TL/Gr\\n18 Ayar Altın TL/Gr\\n14 Ayar Altın TL/Gr\\nKapalicarsi Ziynet 2.5\\nKapalı Çarşı Beşli Altın\\nGremse Altın\\nAta Altın\\nTam Altın\\nKülçe Altın ($)\\nHas Altın\\nHamit Altın\\nSERBEST PİYASA GÜMÜŞ FİYATLARI\\nAltın Haberleri\\nEN SON HABERLER\\n 22 Ayar Bilezik\\nAltın (ONS)\\nAltın ($/kg)\\n Altın Fiyatları\\nEn güncel altın fiyatları için aşağıdaki tablolarda istediğiniz altın türünün üzerine tıklayın.\\n Bununla beraber gerek site üzerindeki, gerekse site için kullanılan kaynaklardaki hata ve eksikliklerden ve sitedeki bilgilerin kullanılması sonucunda yatırımcıların uğrayabilecekleri doğrudan ve/veya dolaylı zararlardan, kar yoksunluğundan, manevi zararlardan ve üçüncü kişilerin uğrayabileceği zararlardan dolayı Hürriyet Gazetecilik ve Matbaacılık A.Ş hiçbir şekilde sorumlu tutulamaz.\\n ALTIN FİYATI HESAPLAMA\\nSERBEST PİYASA ALTIN FİYATLARI\\nALTIN (TL/GR)\\n'}, {'url': 'https://www.anlikaltinfiyati.com/temmuz-2021-altin-fiyatlari.html', 'content': 'Temmuz 2021 Altın Fiyatları, 2021 Temmuz Ayı Günlük Altın Fiyatları Arşivi, 2021 Yılı Temmuz Ayı Gün Gün Tüm Altın Türlerinin Değerleri Altın Fiyatları Hesaplama Canlı Döviz Kurları'}]\u001b[0m\u001b[32;1m\u001b[1;3mTemmuz 2024 tarihli güncel altın fiyatlarına göre, gram altın fiyatı düne göre %0.67 artış göstererek yükselmiştir. Ons altın fiyatı ise 2,382 dolardan işlem görmektedir.\u001b[0m\n",
      "\n",
      "\u001b[1m> Finished chain.\u001b[0m\n"
     ]
    },
    {
     "data": {
      "text/plain": [
       "{'input': 'Peki bana Temmuz ayı fiyatını söyler misin?',\n",
       " 'history': 'Human: Yüklü miktarda param var ama bunları enflasyona karşı korumak istiyorum. Altın mantıklı bir yatırım aracı mıdır?\\nAI: Altın genellikle enflasyona karşı bir koruma aracı olarak görülmektedir. Enflasyon arttığında genellikle altın fiyatları da artar, bu nedenle yatırımcılar enflasyona karşı korunmak için altına yatırım yapabilirler. Ancak altın yatırımı da risk içermektedir ve fiyatları piyasa koşullarına göre değişkenlik gösterebilir.\\n\\nYatırım yapmadan önce dikkatlice araştırma yapmanız ve riskleri değerlendirmeniz önemlidir. Ayrıca yatırım tavsiyesi almak için finansal danışmanlardan destek almanız da faydalı olabilir. Eğer daha fazla bilgi\\nHuman: Peki bana 2024 yılı Nisan ayı fiyatını söyler misin?\\nAI: 2024 yılı Nisan ayında TÜFE yüzde 3,18 oranında artmıştır. Nisan ayındaki artışla birlikte yıllık enflasyon bir önceki aya kıyasla 1,30 puan artarak yüzde 69,80 düzeyinde gerçekleşmiştir. Yüzde 2,78 oranında artan Gıda ve Alkolsüz İçecekler grubu fiyatları Nisan ayı enflasyonunun temel belirleyicisi olmuştur.\\nHuman: Enflasyon fiyatını istemedim.\\nAI: Anladım, enflasyon fiyatıyla ilgili bir bilgi vermek istemiyorsunuz. Başka bir konuda size nasıl yardımcı olabilirim?\\nHuman: Enflasyon fiyatını istemedim.Altın fiyatını ver.\\nAI: Altın fiyatları hakkında detaylı bilgi almak için [buraya](https://bigpara.hurriyet.com.tr/altin/) tıklayabilirsiniz.\\nHuman: Peki bana Temmuz ayı fiyatını söyler misin?\\nAI: Temmuz ayı altın fiyatlarına dair en güncel bilgiye ulaşmak için [bu bağlantıya](https://www.ntv.com.tr/ntvpara/altin-fiyatlari-ne-kadar-gram-altin-kac-lira-12-temmuz-2024-guncel-altin-kuru-fiyatlari,vG9U8gJv5EKD52wqyedPcA) göz atabilirsiniz. Bu kaynağa göre, gram altın fiyatları 12 Temmuz 2024 tarihinde 2.560 Türk Lirası civarında işlem görmüş.',\n",
       " 'output': 'Temmuz 2024 tarihli güncel altın fiyatlarına göre, gram altın fiyatı düne göre %0.67 artış göstererek yükselmiştir. Ons altın fiyatı ise 2,382 dolardan işlem görmektedir.'}"
      ]
     },
     "execution_count": 29,
     "metadata": {},
     "output_type": "execute_result"
    }
   ],
   "source": [
    "main_agent.invoke({\n",
    "        \"input\":\"Peki bana Temmuz ayı fiyatını söyler misin?\"\n",
    "    }\n",
    ")"
   ]
  },
  {
   "cell_type": "code",
   "execution_count": 18,
   "id": "1445d47e",
   "metadata": {},
   "outputs": [
    {
     "name": "stdout",
     "output_type": "stream",
     "text": [
      "\n",
      "\n",
      "\u001b[1m> Entering new AgentExecutor chain...\u001b[0m\n",
      "\u001b[32;1m\u001b[1;3mElinizdeki 1.000.000 TL'yi değerlendirmek için birkaç farklı seçenek bulunmaktadır. İşte bazı öneriler:\n",
      "\n",
      "1. **Borsa Yatırımı**: Hisse senetleri alarak borsa piyasasında yatırım yapabilirsiniz. Ancak, borsa riskli bir yatırım aracı olduğu için iyi bir araştırma yapmanız ve piyasa trendlerini takip etmeniz önemlidir.\n",
      "\n",
      "2. **Vadeli Mevduat**: Bankalarda vadeli mevduat hesabı açarak belirli bir süre için paranızı değerlendirebilirsiniz. Bu yöntem genellikle daha düşük risk taşır ancak getiri oranları da borsa gibi yüksek olmayabilir.\n",
      "\n",
      "3. **Gayrimenkul Yatırımı**: Emlak alarak uzun vadeli bir yatırım yapabilirsiniz. Gayrimenkul, değer kazanma potansiyeli olan bir yatırım aracı olabilir.\n",
      "\n",
      "4. **Yatırım Fonları**: Çeşitli yatırım fonlarına yatırım yaparak profesyonel yöneticiler tarafından yönetilen bir portföy oluşturabilirsiniz.\n",
      "\n",
      "5. **Kripto Para**: Kripto paralara yatırım yapmayı düşünebilirsiniz. Ancak, bu alandaki riskler oldukça yüksektir ve dikkatli olunması gerekir.\n",
      "\n",
      "6. **Altın ve Diğer Değerli Metaller**: Altın gibi değerli metallere yatırım yaparak portföyünüzü çeşitlendirebilirsiniz.\n",
      "\n",
      "Hangi seçeneği\u001b[0m\n",
      "\n",
      "\u001b[1m> Finished chain.\u001b[0m\n"
     ]
    },
    {
     "data": {
      "text/plain": [
       "{'input': 'Elimde 1000000 TL var bunu nasıl derğelendirebilirim?',\n",
       " 'history': \"Human: Merhaba, borsa hakkında bilgi verebilir misin?\\nAI: Merhaba! Tabii ki, borsa, hisse senetleri, tahviller ve diğer menkul kıymetlerin alınıp satıldığı bir piyasa yeridir. Yatırımcılar, şirketlerin hisse senetlerini satın alarak şirketlere ortak olurlar ve şirketlerin kârlarından pay alabilirler.\\nHuman: Borsada yatırım yapmanın riskleri nelerdir?\\nAI: Borsada yatırım yapmanın bazı riskleri vardır. Bunlar arasında piyasa riski, likidite riski ve şirket riski bulunur. Piyasa riski, genel piyasa dalgalanmalarından kaynaklanan kayıpları ifade eder. Likidite riski, yatırımcıların varlıklarını hızlı bir şekilde nakde çevirememesinden kaynaklanır. Şirket riski ise, belirli bir şirketin performansına bağlı risklerdir.\\nHuman: Borsa endeksleri nedir ve nasıl çalışır?\\nAI: Borsa endeksleri, belirli bir grup hisse senedinin performansını ölçen göstergelerdir. Örneğin, S&P 500, Amerika Birleşik Devletleri'ndeki en büyük 500 şirketin hisse senetlerinin performansını takip eder. Endeksler, yatırımcıların piyasanın genel durumu hakkında bilgi sahibi olmalarını sağlar ve yatırım kararlarında rehberlik eder.\\nHuman: Hisse senedi nasıl seçilir?\\nAI: Hisse senedi seçerken dikkate almanız gereken birkaç faktör vardır. Bunlar arasında şirketin finansal durumu, sektördeki konumu, büyüme potansiyeli ve piyasa trendleri bulunur. Ayrıca, temel analiz ve teknik analiz gibi yöntemler kullanarak hisse senetlerinin değerini belirleyebilirsiniz.\\nHuman: Teşekkür ederim, bu bilgiler çok faydalı oldu.\\nAI: Rica ederim! Başka sorularınız olursa her zaman yardımcı olmaktan memnuniyet duyarım.\\nHuman: TUPRS hissesinin pazar büyüklüğü nedir?\\nAI: Tüpraş (TUPRS) hissesinin pazar büyüklüğü ile ilgili doğrudan bir bilgi bulamadım. Ancak, Tüpraş hakkında daha fazla bilgi ve finansal veriler için [buraya](https://www.google.com/finance/quote/TUPRS:IST) göz atabilirsiniz. \\n\\nAyrıca, Tüpraş'ın resmi web sitesi ve diğer finansal kaynaklar üzerinden de detaylı bilgilere ulaşabilirsiniz. Eğer başka bir konuda yardımcı olmamı isterseniz, lütfen belirtin!\\nHuman: TUPRS hissesinin pazar büyüklüğü nedir?\\nAI: Türkiye Petrol Rafinerileri A.Ş. (TUPRS) hissesinin pazar büyüklüğü (market cap) yaklaşık olarak 324.47 milyar TL'dir. Daha fazla bilgi için [bu bağlantıya](https://finance.yahoo.com/quote/TUPRS.IS/) göz atabilirsiniz.\\nHuman: ASELSAN hakkında bilgi verir misin?\\nAI: ASELSAN, Türkiye'nin en büyük savunma ve sivil teknolojiler üreticisidir. Şirket, Askerî Elektronik Sanayi (Aselsan) olarak bilinir ve merkezi Ankara, Türkiye'dedir. ASELSAN, hava, kara ve deniz kuvvetleri için ileri düzey askeri ürünlerin araştırma, geliştirme ve üretimi alanında faaliyet göstermektedir.\\n\\n### ASELSAN'ın Faaliyet Alanları:\\n- **Askeri İletişim Sistemleri**\\n- **Radar Sistemleri**\\n- **Elektronik Harp Sistemleri**\\n- **Sistem Entegrasyonu**\\n- **Satış Sonrası Hizmetler**\\n\\nASELSAN, hem savunma hem de sivil alanlarda yüksek teknoloji ürün ve sistemler geliştirmektedir. Şirket, sürdürülebilirlik ve inovasyonu ön planda tutarak, çeşitli projeler ve iş birlikleri gerçekleştirmektedir.\\n\\n### Önemli Bilgiler:\\n- ASELSAN, Türkiye'nin savunma sanayisinde önemli bir rol oynamaktadır ve dünya çapında birçok ülkeye savunma sistemleri sağlamaktadır.\\n- Şirket, F-16 jetlerinin modernizasyonu gibi projelerle de dikkat çekmektedir.\\n\\nDaha fazla bilgi için ASELSAN'ın resmi web sitesini ziyaret edebilirsiniz: [ASELSAN Resmi Web Sitesi](https://www.aselsan.com/tr) veya [Wikipedia](https://en.wikipedia.org/wiki/\",\n",
       " 'output': \"Elinizdeki 1.000.000 TL'yi değerlendirmek için birkaç farklı seçenek bulunmaktadır. İşte bazı öneriler:\\n\\n1. **Borsa Yatırımı**: Hisse senetleri alarak borsa piyasasında yatırım yapabilirsiniz. Ancak, borsa riskli bir yatırım aracı olduğu için iyi bir araştırma yapmanız ve piyasa trendlerini takip etmeniz önemlidir.\\n\\n2. **Vadeli Mevduat**: Bankalarda vadeli mevduat hesabı açarak belirli bir süre için paranızı değerlendirebilirsiniz. Bu yöntem genellikle daha düşük risk taşır ancak getiri oranları da borsa gibi yüksek olmayabilir.\\n\\n3. **Gayrimenkul Yatırımı**: Emlak alarak uzun vadeli bir yatırım yapabilirsiniz. Gayrimenkul, değer kazanma potansiyeli olan bir yatırım aracı olabilir.\\n\\n4. **Yatırım Fonları**: Çeşitli yatırım fonlarına yatırım yaparak profesyonel yöneticiler tarafından yönetilen bir portföy oluşturabilirsiniz.\\n\\n5. **Kripto Para**: Kripto paralara yatırım yapmayı düşünebilirsiniz. Ancak, bu alandaki riskler oldukça yüksektir ve dikkatli olunması gerekir.\\n\\n6. **Altın ve Diğer Değerli Metaller**: Altın gibi değerli metallere yatırım yaparak portföyünüzü çeşitlendirebilirsiniz.\\n\\nHangi seçeneği\"}"
      ]
     },
     "execution_count": 18,
     "metadata": {},
     "output_type": "execute_result"
    }
   ],
   "source": [
    "main_agent.invoke({\n",
    "        \"input\":\"Elimde 1000000 TL var bunu nasıl derğelendirebilirim?\"\n",
    "    }\n",
    ")"
   ]
  },
  {
   "cell_type": "code",
   "execution_count": 30,
   "id": "c8fc4108",
   "metadata": {},
   "outputs": [
    {
     "name": "stdout",
     "output_type": "stream",
     "text": [
      "\n",
      "\n",
      "\u001b[1m> Entering new AgentExecutor chain...\u001b[0m\n",
      "\u001b[32;1m\u001b[1;3mÖngörülen ekonomik koşullar ve kişisel yatırım hedeflerinize bağlı olarak, altın ve bono gibi yatırım araçları arasında seçim yapabilirsiniz. Altın genellikle ekonomik belirsizlik dönemlerinde güvenli liman olarak tercih edilirken, bonolar ise düşük riskli ve sabit getirili yatırım araçlarıdır.\n",
      "\n",
      "2024 yılında altın mı alınmalı yoksa bono mu tercih edilmeli konusunda kesin bir öneri veremem çünkü yatırım tercihleri kişiden kişiye değişebilir. Ancak, genel olarak altın fiyatları ekonomik belirsizliklerde yükselme eğ\u001b[0m\n",
      "\n",
      "\u001b[1m> Finished chain.\u001b[0m\n"
     ]
    },
    {
     "data": {
      "text/plain": [
       "{'input': '2024 yılında altın mı alınmalı bono mu?',\n",
       " 'history': \"Human: ASELSAN hakkında bilgi verir misin?\\nAI: ASELSAN, Ankara, Türkiye merkezli bir Türk savunma şirketidir. Ana faaliyet alanı, ileri askeri teknoloji ürünlerinin araştırılması, geliştirilmesi ve üretilmesidir. ASELSAN, Türk Silahlı Kuvvetleri'nin iletişim ihtiyaçlarını karşılamak amacıyla 1975 yılında kurulan Türk Silahlı Kuvvetleri Vakfı şirketidir. ASELSAN, Türkiye'nin en büyük savunma şirketi olan Aselsan ve özel bir tersane olan Sefine arasındaki ortaklıkla geliştirilen Marlin SIDA'yı geliştirmiştir. Aselsan Elektronik Sanayi Ve Ticaret AS şirketinin his\\nHuman: TUPRAS 2023 yılında ne kadar kar etti?\\nAI: Malesef, TUPRAS'ın 2023 yılındaki net karı hakkında net bir bilgi bulunmamaktadır. Ancak, hisse senedi fiyatları ve hareketleri hakkında bilgi verilebilir. Eğer başka bir konuda yardımcı olabileceğim bir şey varsa lütfen belirtin.\\nHuman: TUPRAS 2023 yılında ne kadar kar etti?\\nAI: Malesef, TUPRAS'ın 2023 yılındaki net karı hakkında net bir bilgi bulunmamaktadır. Ancak, hisse senedi fiyatı ve hareketi ile ilgili bilgiler bulunmaktadır. Eğer başka bir konuda yardımcı olmamı isterseniz lütfen belirtin.\\nHuman: TUPRAS 2023 yılında ne kadar bilanço karı etti?\\nAI: 2023 yılında TUPRAS'ın bilanço karı hakkında net bir bilgi bulunmamaktadır. Ancak hisse senedi fiyatı ve hareketi hakkında bilgi verilebilir. TUPRAS hisse senedi fiyatı şu anda 40211.72 birimdir ve yükseliş göstermektedir.\",\n",
       " 'output': 'Öngörülen ekonomik koşullar ve kişisel yatırım hedeflerinize bağlı olarak, altın ve bono gibi yatırım araçları arasında seçim yapabilirsiniz. Altın genellikle ekonomik belirsizlik dönemlerinde güvenli liman olarak tercih edilirken, bonolar ise düşük riskli ve sabit getirili yatırım araçlarıdır.\\n\\n2024 yılında altın mı alınmalı yoksa bono mu tercih edilmeli konusunda kesin bir öneri veremem çünkü yatırım tercihleri kişiden kişiye değişebilir. Ancak, genel olarak altın fiyatları ekonomik belirsizliklerde yükselme eğ'}"
      ]
     },
     "execution_count": 30,
     "metadata": {},
     "output_type": "execute_result"
    }
   ],
   "source": [
    "main_agent.invoke({\n",
    "        \"input\":\"2024 yılında altın mı alınmalı bono mu?\"\n",
    "    }\n",
    ")"
   ]
  },
  {
   "cell_type": "code",
   "execution_count": 10,
   "id": "6c9d537c",
   "metadata": {},
   "outputs": [
    {
     "name": "stdout",
     "output_type": "stream",
     "text": [
      "\n",
      "\n",
      "\u001b[1m> Entering new AgentExecutor chain...\u001b[0m\n",
      "\u001b[32;1m\u001b[1;3m\n",
      "Invoking: `tavily_search` with `TUPRAS`\n",
      "\n",
      "\n",
      "\u001b[0m\u001b[36;1m\u001b[1;3m[{'url': 'https://www.tupras.com.tr/en/', 'content': 'Tüpraş is transforming its business for a carbon-neutral world by 2050, producing sustainable energy types and using cutting-edge technology. Learn about its refineries, subsidiaries, innovation, culture, and agenda.'}, {'url': 'https://en.wikipedia.org/wiki/Tüpraş', 'content': \"Introduction. Tüpraş operates four oil refineries, three of which process imported crude. The 11 million tonnes a year Izmit refinery at Izmit in north west Turkey and the 11 million tonnes/yr Izmir refinery at Aliaga on Turkey's central Aegean coast process crude from global markets delivered by tanker while the 5 million tonnes/yr Kirikkale ...\"}, {'url': 'https://www.tupras.com.tr/en/about-us', 'content': 'Tüpraş is a carbon neutral energy company that aims to transform for a sustainable world by 2050. It operates four main business lines: sustainable refining, biofuels, zero carbon electricity, and green hydrogen.'}, {'url': 'https://www.tupras.com.tr/tr/', 'content': 'Tüpraş, enerji ihtiyacını karbon nötr bir şekilde karşılamak için geleceğin yeni enerji türlerini üretmek ve dijital, sürdürülebilir, inovasyon ve insan odaklı bir yaklaşımda çalışıyor. Şirketin dönüşüm planı, projeleri, haberleri ve kariyer fırsatları hakkında bilgi alın.'}, {'url': 'https://tr.investing.com/equities/tupras', 'content': \"Türkiye Petrol Rafinerileri A.Ş. (TUPRS) hissesinin güncel fiyatı, grafik, finansal verileri, analistlerin fikirleri ve haberleri Investing.com'da. Tüpraş, petrol ve doğal gaz ürünleri işlemek için Türkiye'nin en büyük rafineri şirketidir.\"}]\u001b[0m\u001b[32;1m\u001b[1;3mTÜPRAŞ (Türkiye Petrol Rafinerileri A.Ş.), Türkiye'nin en büyük rafineri şirketidir. TÜPRAŞ, karbon nötr bir enerji şirketi olma hedefiyle 2050 yılına kadar sürdürülebilir bir dünya için dönüşüm sağlamayı amaçlamaktadır. Şirket, sürdürülebilir rafinaj, biyoyakıtlar, sıfır karbon elektrik ve yeşil hidrojen olmak üzere dört ana iş hattı üzerinde faaliyet göstermektedir. Daha fazla bilgiye [TÜPRAŞ resmi web sitesinden](https://www.tupras.com.tr/en/) ulaşabilirsiniz.\u001b[0m\n",
      "\n",
      "\u001b[1m> Finished chain.\u001b[0m\n"
     ]
    },
    {
     "data": {
      "text/plain": [
       "{'input': 'TUPRAS ne şirketidir?',\n",
       " 'history': \"Human: Merhaba, borsa hakkında bilgi verebilir misin?\\nAI: Merhaba! Tabii ki, borsa, hisse senetleri, tahviller ve diğer menkul kıymetlerin alınıp satıldığı bir piyasa yeridir. Yatırımcılar, şirketlerin hisse senetlerini satın alarak şirketlere ortak olurlar ve şirketlerin kârlarından pay alabilirler.\\nHuman: Borsada yatırım yapmanın riskleri nelerdir?\\nAI: Borsada yatırım yapmanın bazı riskleri vardır. Bunlar arasında piyasa riski, likidite riski ve şirket riski bulunur. Piyasa riski, genel piyasa dalgalanmalarından kaynaklanan kayıpları ifade eder. Likidite riski, yatırımcıların varlıklarını hızlı bir şekilde nakde çevirememesinden kaynaklanır. Şirket riski ise, belirli bir şirketin performansına bağlı risklerdir.\\nHuman: Borsa endeksleri nedir ve nasıl çalışır?\\nAI: Borsa endeksleri, belirli bir grup hisse senedinin performansını ölçen göstergelerdir. Örneğin, S&P 500, Amerika Birleşik Devletleri'ndeki en büyük 500 şirketin hisse senetlerinin performansını takip eder. Endeksler, yatırımcıların piyasanın genel durumu hakkında bilgi sahibi olmalarını sağlar ve yatırım kararlarında rehberlik eder.\\nHuman: Hisse senedi nasıl seçilir?\\nAI: Hisse senedi seçerken dikkate almanız gereken birkaç faktör vardır. Bunlar arasında şirketin finansal durumu, sektördeki konumu, büyüme potansiyeli ve piyasa trendleri bulunur. Ayrıca, temel analiz ve teknik analiz gibi yöntemler kullanarak hisse senetlerinin değerini belirleyebilirsiniz.\\nHuman: Teşekkür ederim, bu bilgiler çok faydalı oldu.\\nAI: Rica ederim! Başka sorularınız olursa her zaman yardımcı olmaktan memnuniyet duyarım.\\nHuman: ASELSAN hakkında bilgi verir misin?\\nAI: ASELSAN, Türkiye'nin en büyük savunma ve sivil teknolojileri üreticisidir. Savunma alanında yüksek teknoloji ürün ve sistemler, sivil alanlarda sürdürülebilirliği ve inovasyonu öne çıkaran ASELSAN, Türk Silahlı Kuvvetleri'nin haberleşme ve bilgi teknolojileri ihtiyaçlarını karşılayan uluslararası pazarda değer yaratan bir milli teknoloji firmasıdır. ASELSAN, hava, deniz, kara ve silah sistemleri, radar, elektro-optik, aviyonik ve ulaştım güvenliği alanlarında özgün ürünler ve çözümler sunmaktadır.\\n\\nDaha\",\n",
       " 'output': \"TÜPRAŞ (Türkiye Petrol Rafinerileri A.Ş.), Türkiye'nin en büyük rafineri şirketidir. TÜPRAŞ, karbon nötr bir enerji şirketi olma hedefiyle 2050 yılına kadar sürdürülebilir bir dünya için dönüşüm sağlamayı amaçlamaktadır. Şirket, sürdürülebilir rafinaj, biyoyakıtlar, sıfır karbon elektrik ve yeşil hidrojen olmak üzere dört ana iş hattı üzerinde faaliyet göstermektedir. Daha fazla bilgiye [TÜPRAŞ resmi web sitesinden](https://www.tupras.com.tr/en/) ulaşabilirsiniz.\"}"
      ]
     },
     "execution_count": 10,
     "metadata": {},
     "output_type": "execute_result"
    }
   ],
   "source": [
    "main_agent.invoke({\n",
    "        \"input\":\"TUPRAS ne şirketidir?\"\n",
    "    }\n",
    ")"
   ]
  },
  {
   "cell_type": "code",
   "execution_count": 11,
   "id": "d6b236af",
   "metadata": {},
   "outputs": [
    {
     "name": "stdout",
     "output_type": "stream",
     "text": [
      "\n",
      "\n",
      "\u001b[1m> Entering new AgentExecutor chain...\u001b[0m\n",
      "\u001b[32;1m\u001b[1;3m\n",
      "Invoking: `tavily_search` with `Türkiye mevcut işsizlik oranı`\n",
      "\n",
      "\n",
      "\u001b[0m\u001b[36;1m\u001b[1;3m[{'url': 'https://tr.tradingeconomics.com/turkey/unemployment-rate', 'content': 'Akım değerleri, tarihsel veriler, tahminler, istatistikler, grafikler ve ekonomik takvim - Türkiye - İşsizlik Oranı. 2005-2024 Veri | 2025-2026 Tahmin.'}, {'url': 'https://www.sbb.gov.tr/istihdam/', 'content': 'Ana Sayfa « Ekonomik Veriler « İstihdam 10 Temmuz 2024 tarihinde açıklanan işgücü istatistiklerine göre işsizlik oranı 2024 yılı Mayıs ayında yüzde 7,7 seviyesinde gerçekleşti. İstihdam edilenlerin sayısı 33 milyon 233 bin kişi, istihdam oranı ise yüzde 50,5 oldu. Mevsim etkilerinden arındırılmış veriler dikkate alındığında; İstihdam edilenlerin sayısı 32 ...'}, {'url': 'https://data.tuik.gov.tr/Kategori/GetKategori?p=istihdam-issizlik-ve-ucret-108&dil=1', 'content': 'Coğrafi İstatistik Portalı. Ulusal Veri Sayfası. TürkçeEnglish. İstihdam, İşsizlik ve Ücret. 402. Alt Kategoriler. İşgücü İstatistikleri 270. İşgücü Girdi,İşgücü Maliyeti ve Kazanç İstatistikleri 132. Yılı/Yılları Seçiniz.'}, {'url': 'https://www.bbc.com/turkce/haberler-turkiye-61065857', 'content': \"Türkiye İstatistik Kurumu (TÜİK), Şubat 2022'nin işsizlik rakamını yüzde 10,7 olarak açıkladı. İşsizlik oranı erkeklerde yüzde 9,3 iken kadınlarda ise yüzde 13,4 olarak tahmin ...\"}, {'url': 'https://www.ertv.com.tr/guncel/2023-yili-issizlik-oranlari-belli-oldu-h16523.html', 'content': 'İşgücüne katılma oranı erkeklerde yüzde 71,2, kadınlarda ise yüzde 35,8 oldu. Genç nüfusta işsizlik oranı yüzde 17,4 oldu. 15-24 yaş grubunu kapsayan genç nüfusta işsizlik oranı 2023 yılında bir önceki yıla göre 2,0 puan azalarak yüzde 17,4 oldu. Bu yaş grubunda işsizlik oranı; erkeklerde yüzde 14,3, kadınlarda ise ...'}]\u001b[0m\u001b[32;1m\u001b[1;3mTürkiye'deki mevcut işsizlik oranı hakkında en güncel verilere ulaşmak için [bu bağlantıya](https://tr.tradingeconomics.com/turkey/unemployment-rate) tıklayabilirsiniz. Ayrıca, 2024 yılı Mayıs ayında işsizlik oranının yüzde 7,7 seviyesinde gerçekleştiği bilgisi de mevcut.\u001b[0m\n",
      "\n",
      "\u001b[1m> Finished chain.\u001b[0m\n"
     ]
    },
    {
     "data": {
      "text/plain": [
       "{'input': 'Şuanda Türkiyedeki mevcut işsizlik oranı nedir?',\n",
       " 'history': \"Human: Merhaba, borsa hakkında bilgi verebilir misin?\\nAI: Merhaba! Tabii ki, borsa, hisse senetleri, tahviller ve diğer menkul kıymetlerin alınıp satıldığı bir piyasa yeridir. Yatırımcılar, şirketlerin hisse senetlerini satın alarak şirketlere ortak olurlar ve şirketlerin kârlarından pay alabilirler.\\nHuman: Borsada yatırım yapmanın riskleri nelerdir?\\nAI: Borsada yatırım yapmanın bazı riskleri vardır. Bunlar arasında piyasa riski, likidite riski ve şirket riski bulunur. Piyasa riski, genel piyasa dalgalanmalarından kaynaklanan kayıpları ifade eder. Likidite riski, yatırımcıların varlıklarını hızlı bir şekilde nakde çevirememesinden kaynaklanır. Şirket riski ise, belirli bir şirketin performansına bağlı risklerdir.\\nHuman: Borsa endeksleri nedir ve nasıl çalışır?\\nAI: Borsa endeksleri, belirli bir grup hisse senedinin performansını ölçen göstergelerdir. Örneğin, S&P 500, Amerika Birleşik Devletleri'ndeki en büyük 500 şirketin hisse senetlerinin performansını takip eder. Endeksler, yatırımcıların piyasanın genel durumu hakkında bilgi sahibi olmalarını sağlar ve yatırım kararlarında rehberlik eder.\\nHuman: Hisse senedi nasıl seçilir?\\nAI: Hisse senedi seçerken dikkate almanız gereken birkaç faktör vardır. Bunlar arasında şirketin finansal durumu, sektördeki konumu, büyüme potansiyeli ve piyasa trendleri bulunur. Ayrıca, temel analiz ve teknik analiz gibi yöntemler kullanarak hisse senetlerinin değerini belirleyebilirsiniz.\\nHuman: Teşekkür ederim, bu bilgiler çok faydalı oldu.\\nAI: Rica ederim! Başka sorularınız olursa her zaman yardımcı olmaktan memnuniyet duyarım.\\nHuman: ASELSAN hakkında bilgi verir misin?\\nAI: ASELSAN, Türkiye'nin en büyük savunma ve sivil teknolojileri üreticisidir. Savunma alanında yüksek teknoloji ürün ve sistemler, sivil alanlarda sürdürülebilirliği ve inovasyonu öne çıkaran ASELSAN, Türk Silahlı Kuvvetleri'nin haberleşme ve bilgi teknolojileri ihtiyaçlarını karşılayan uluslararası pazarda değer yaratan bir milli teknoloji firmasıdır. ASELSAN, hava, deniz, kara ve silah sistemleri, radar, elektro-optik, aviyonik ve ulaştım güvenliği alanlarında özgün ürünler ve çözümler sunmaktadır.\\n\\nDaha\\nHuman: TUPRAS ne şirketidir?\\nAI: TÜPRAŞ (Türkiye Petrol Rafinerileri A.Ş.), Türkiye'nin en büyük rafineri şirketidir. TÜPRAŞ, karbon nötr bir enerji şirketi olma hedefiyle 2050 yılına kadar sürdürülebilir bir dünya için dönüşüm sağlamayı amaçlamaktadır. Şirket, sürdürülebilir rafinaj, biyoyakıtlar, sıfır karbon elektrik ve yeşil hidrojen olmak üzere dört ana iş hattı üzerinde faaliyet göstermektedir. Daha fazla bilgiye [TÜPRAŞ resmi web sitesinden](https://www.tupras.com.tr/en/) ulaşabilirsiniz.\",\n",
       " 'output': \"Türkiye'deki mevcut işsizlik oranı hakkında en güncel verilere ulaşmak için [bu bağlantıya](https://tr.tradingeconomics.com/turkey/unemployment-rate) tıklayabilirsiniz. Ayrıca, 2024 yılı Mayıs ayında işsizlik oranının yüzde 7,7 seviyesinde gerçekleştiği bilgisi de mevcut.\"}"
      ]
     },
     "execution_count": 11,
     "metadata": {},
     "output_type": "execute_result"
    }
   ],
   "source": [
    "main_agent.invoke({\n",
    "        \"input\":\"Şuanda Türkiyedeki mevcut işsizlik oranı nedir?\"\n",
    "    }\n",
    ")"
   ]
  }
 ],
 "metadata": {
  "kernelspec": {
   "display_name": "Python 3",
   "language": "python",
   "name": "python3"
  },
  "language_info": {
   "codemirror_mode": {
    "name": "ipython",
    "version": 3
   },
   "file_extension": ".py",
   "mimetype": "text/x-python",
   "name": "python",
   "nbconvert_exporter": "python",
   "pygments_lexer": "ipython3",
   "version": "3.12.4"
  }
 },
 "nbformat": 4,
 "nbformat_minor": 5
}
